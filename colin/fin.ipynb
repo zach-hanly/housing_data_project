{
 "cells": [
  {
   "cell_type": "code",
   "execution_count": 1,
   "metadata": {},
   "outputs": [],
   "source": [
    "import pandas as pd\n",
    "import numpy as np\n",
    "import matplotlib.pyplot as plt\n",
    "import seaborn as sns\n",
    "from sklearn import svm\n",
    "from sklearn.preprocessing import OneHotEncoder\n",
    "from sklearn.dummy import DummyRegressor\n",
    "from sklearn.linear_model import LinearRegression\n",
    "from sklearn.feature_selection import RFE\n",
    "from sklearn.preprocessing import PolynomialFeatures, StandardScaler\n",
    "from sklearn.model_selection import train_test_split\n",
    "from sklearn.metrics import mean_squared_error\n",
    "from statsmodels.formula.api import ols\n",
    "import statsmodels.api as sm\n",
    "import statsmodels.formula.api as smf\n",
    "import scipy.stats as stats"
   ]
  },
  {
   "cell_type": "code",
   "execution_count": 2,
   "metadata": {},
   "outputs": [],
   "source": [
    "df = pd.read_csv('../data/kc_house_data.csv')"
   ]
  },
  {
   "cell_type": "code",
   "execution_count": 3,
   "metadata": {
    "scrolled": true
   },
   "outputs": [
    {
     "data": {
      "text/html": [
       "<div>\n",
       "<style scoped>\n",
       "    .dataframe tbody tr th:only-of-type {\n",
       "        vertical-align: middle;\n",
       "    }\n",
       "\n",
       "    .dataframe tbody tr th {\n",
       "        vertical-align: top;\n",
       "    }\n",
       "\n",
       "    .dataframe thead th {\n",
       "        text-align: right;\n",
       "    }\n",
       "</style>\n",
       "<table border=\"1\" class=\"dataframe\">\n",
       "  <thead>\n",
       "    <tr style=\"text-align: right;\">\n",
       "      <th></th>\n",
       "      <th>id</th>\n",
       "      <th>price</th>\n",
       "      <th>bedrooms</th>\n",
       "      <th>bathrooms</th>\n",
       "      <th>sqft_living</th>\n",
       "      <th>sqft_lot</th>\n",
       "      <th>floors</th>\n",
       "      <th>sqft_above</th>\n",
       "      <th>yr_built</th>\n",
       "      <th>yr_renovated</th>\n",
       "      <th>zipcode</th>\n",
       "      <th>lat</th>\n",
       "      <th>long</th>\n",
       "      <th>sqft_living15</th>\n",
       "      <th>sqft_lot15</th>\n",
       "    </tr>\n",
       "  </thead>\n",
       "  <tbody>\n",
       "    <tr>\n",
       "      <th>count</th>\n",
       "      <td>2.159700e+04</td>\n",
       "      <td>2.159700e+04</td>\n",
       "      <td>21597.000000</td>\n",
       "      <td>21597.000000</td>\n",
       "      <td>21597.000000</td>\n",
       "      <td>2.159700e+04</td>\n",
       "      <td>21597.000000</td>\n",
       "      <td>21597.000000</td>\n",
       "      <td>21597.000000</td>\n",
       "      <td>17755.000000</td>\n",
       "      <td>21597.000000</td>\n",
       "      <td>21597.000000</td>\n",
       "      <td>21597.000000</td>\n",
       "      <td>21597.000000</td>\n",
       "      <td>21597.000000</td>\n",
       "    </tr>\n",
       "    <tr>\n",
       "      <th>mean</th>\n",
       "      <td>4.580474e+09</td>\n",
       "      <td>5.402966e+05</td>\n",
       "      <td>3.373200</td>\n",
       "      <td>2.115826</td>\n",
       "      <td>2080.321850</td>\n",
       "      <td>1.509941e+04</td>\n",
       "      <td>1.494096</td>\n",
       "      <td>1788.596842</td>\n",
       "      <td>1970.999676</td>\n",
       "      <td>83.636778</td>\n",
       "      <td>98077.951845</td>\n",
       "      <td>47.560093</td>\n",
       "      <td>-122.213982</td>\n",
       "      <td>1986.620318</td>\n",
       "      <td>12758.283512</td>\n",
       "    </tr>\n",
       "    <tr>\n",
       "      <th>std</th>\n",
       "      <td>2.876736e+09</td>\n",
       "      <td>3.673681e+05</td>\n",
       "      <td>0.926299</td>\n",
       "      <td>0.768984</td>\n",
       "      <td>918.106125</td>\n",
       "      <td>4.141264e+04</td>\n",
       "      <td>0.539683</td>\n",
       "      <td>827.759761</td>\n",
       "      <td>29.375234</td>\n",
       "      <td>399.946414</td>\n",
       "      <td>53.513072</td>\n",
       "      <td>0.138552</td>\n",
       "      <td>0.140724</td>\n",
       "      <td>685.230472</td>\n",
       "      <td>27274.441950</td>\n",
       "    </tr>\n",
       "    <tr>\n",
       "      <th>min</th>\n",
       "      <td>1.000102e+06</td>\n",
       "      <td>7.800000e+04</td>\n",
       "      <td>1.000000</td>\n",
       "      <td>0.500000</td>\n",
       "      <td>370.000000</td>\n",
       "      <td>5.200000e+02</td>\n",
       "      <td>1.000000</td>\n",
       "      <td>370.000000</td>\n",
       "      <td>1900.000000</td>\n",
       "      <td>0.000000</td>\n",
       "      <td>98001.000000</td>\n",
       "      <td>47.155900</td>\n",
       "      <td>-122.519000</td>\n",
       "      <td>399.000000</td>\n",
       "      <td>651.000000</td>\n",
       "    </tr>\n",
       "    <tr>\n",
       "      <th>25%</th>\n",
       "      <td>2.123049e+09</td>\n",
       "      <td>3.220000e+05</td>\n",
       "      <td>3.000000</td>\n",
       "      <td>1.750000</td>\n",
       "      <td>1430.000000</td>\n",
       "      <td>5.040000e+03</td>\n",
       "      <td>1.000000</td>\n",
       "      <td>1190.000000</td>\n",
       "      <td>1951.000000</td>\n",
       "      <td>0.000000</td>\n",
       "      <td>98033.000000</td>\n",
       "      <td>47.471100</td>\n",
       "      <td>-122.328000</td>\n",
       "      <td>1490.000000</td>\n",
       "      <td>5100.000000</td>\n",
       "    </tr>\n",
       "    <tr>\n",
       "      <th>50%</th>\n",
       "      <td>3.904930e+09</td>\n",
       "      <td>4.500000e+05</td>\n",
       "      <td>3.000000</td>\n",
       "      <td>2.250000</td>\n",
       "      <td>1910.000000</td>\n",
       "      <td>7.618000e+03</td>\n",
       "      <td>1.500000</td>\n",
       "      <td>1560.000000</td>\n",
       "      <td>1975.000000</td>\n",
       "      <td>0.000000</td>\n",
       "      <td>98065.000000</td>\n",
       "      <td>47.571800</td>\n",
       "      <td>-122.231000</td>\n",
       "      <td>1840.000000</td>\n",
       "      <td>7620.000000</td>\n",
       "    </tr>\n",
       "    <tr>\n",
       "      <th>75%</th>\n",
       "      <td>7.308900e+09</td>\n",
       "      <td>6.450000e+05</td>\n",
       "      <td>4.000000</td>\n",
       "      <td>2.500000</td>\n",
       "      <td>2550.000000</td>\n",
       "      <td>1.068500e+04</td>\n",
       "      <td>2.000000</td>\n",
       "      <td>2210.000000</td>\n",
       "      <td>1997.000000</td>\n",
       "      <td>0.000000</td>\n",
       "      <td>98118.000000</td>\n",
       "      <td>47.678000</td>\n",
       "      <td>-122.125000</td>\n",
       "      <td>2360.000000</td>\n",
       "      <td>10083.000000</td>\n",
       "    </tr>\n",
       "    <tr>\n",
       "      <th>max</th>\n",
       "      <td>9.900000e+09</td>\n",
       "      <td>7.700000e+06</td>\n",
       "      <td>33.000000</td>\n",
       "      <td>8.000000</td>\n",
       "      <td>13540.000000</td>\n",
       "      <td>1.651359e+06</td>\n",
       "      <td>3.500000</td>\n",
       "      <td>9410.000000</td>\n",
       "      <td>2015.000000</td>\n",
       "      <td>2015.000000</td>\n",
       "      <td>98199.000000</td>\n",
       "      <td>47.777600</td>\n",
       "      <td>-121.315000</td>\n",
       "      <td>6210.000000</td>\n",
       "      <td>871200.000000</td>\n",
       "    </tr>\n",
       "  </tbody>\n",
       "</table>\n",
       "</div>"
      ],
      "text/plain": [
       "                 id         price      bedrooms     bathrooms   sqft_living  \\\n",
       "count  2.159700e+04  2.159700e+04  21597.000000  21597.000000  21597.000000   \n",
       "mean   4.580474e+09  5.402966e+05      3.373200      2.115826   2080.321850   \n",
       "std    2.876736e+09  3.673681e+05      0.926299      0.768984    918.106125   \n",
       "min    1.000102e+06  7.800000e+04      1.000000      0.500000    370.000000   \n",
       "25%    2.123049e+09  3.220000e+05      3.000000      1.750000   1430.000000   \n",
       "50%    3.904930e+09  4.500000e+05      3.000000      2.250000   1910.000000   \n",
       "75%    7.308900e+09  6.450000e+05      4.000000      2.500000   2550.000000   \n",
       "max    9.900000e+09  7.700000e+06     33.000000      8.000000  13540.000000   \n",
       "\n",
       "           sqft_lot        floors    sqft_above      yr_built  yr_renovated  \\\n",
       "count  2.159700e+04  21597.000000  21597.000000  21597.000000  17755.000000   \n",
       "mean   1.509941e+04      1.494096   1788.596842   1970.999676     83.636778   \n",
       "std    4.141264e+04      0.539683    827.759761     29.375234    399.946414   \n",
       "min    5.200000e+02      1.000000    370.000000   1900.000000      0.000000   \n",
       "25%    5.040000e+03      1.000000   1190.000000   1951.000000      0.000000   \n",
       "50%    7.618000e+03      1.500000   1560.000000   1975.000000      0.000000   \n",
       "75%    1.068500e+04      2.000000   2210.000000   1997.000000      0.000000   \n",
       "max    1.651359e+06      3.500000   9410.000000   2015.000000   2015.000000   \n",
       "\n",
       "            zipcode           lat          long  sqft_living15     sqft_lot15  \n",
       "count  21597.000000  21597.000000  21597.000000   21597.000000   21597.000000  \n",
       "mean   98077.951845     47.560093   -122.213982    1986.620318   12758.283512  \n",
       "std       53.513072      0.138552      0.140724     685.230472   27274.441950  \n",
       "min    98001.000000     47.155900   -122.519000     399.000000     651.000000  \n",
       "25%    98033.000000     47.471100   -122.328000    1490.000000    5100.000000  \n",
       "50%    98065.000000     47.571800   -122.231000    1840.000000    7620.000000  \n",
       "75%    98118.000000     47.678000   -122.125000    2360.000000   10083.000000  \n",
       "max    98199.000000     47.777600   -121.315000    6210.000000  871200.000000  "
      ]
     },
     "execution_count": 3,
     "metadata": {},
     "output_type": "execute_result"
    }
   ],
   "source": [
    "df.describe()"
   ]
  },
  {
   "cell_type": "code",
   "execution_count": 4,
   "metadata": {},
   "outputs": [
    {
     "name": "stdout",
     "output_type": "stream",
     "text": [
      "<class 'pandas.core.frame.DataFrame'>\n",
      "RangeIndex: 21597 entries, 0 to 21596\n",
      "Data columns (total 21 columns):\n",
      " #   Column         Non-Null Count  Dtype  \n",
      "---  ------         --------------  -----  \n",
      " 0   id             21597 non-null  int64  \n",
      " 1   date           21597 non-null  object \n",
      " 2   price          21597 non-null  float64\n",
      " 3   bedrooms       21597 non-null  int64  \n",
      " 4   bathrooms      21597 non-null  float64\n",
      " 5   sqft_living    21597 non-null  int64  \n",
      " 6   sqft_lot       21597 non-null  int64  \n",
      " 7   floors         21597 non-null  float64\n",
      " 8   waterfront     19221 non-null  object \n",
      " 9   view           21534 non-null  object \n",
      " 10  condition      21597 non-null  object \n",
      " 11  grade          21597 non-null  object \n",
      " 12  sqft_above     21597 non-null  int64  \n",
      " 13  sqft_basement  21597 non-null  object \n",
      " 14  yr_built       21597 non-null  int64  \n",
      " 15  yr_renovated   17755 non-null  float64\n",
      " 16  zipcode        21597 non-null  int64  \n",
      " 17  lat            21597 non-null  float64\n",
      " 18  long           21597 non-null  float64\n",
      " 19  sqft_living15  21597 non-null  int64  \n",
      " 20  sqft_lot15     21597 non-null  int64  \n",
      "dtypes: float64(6), int64(9), object(6)\n",
      "memory usage: 3.5+ MB\n"
     ]
    }
   ],
   "source": [
    "df.info()"
   ]
  },
  {
   "cell_type": "code",
   "execution_count": 5,
   "metadata": {
    "scrolled": false
   },
   "outputs": [
    {
     "data": {
      "text/plain": [
       "id                  0\n",
       "date                0\n",
       "price               0\n",
       "bedrooms            0\n",
       "bathrooms           0\n",
       "sqft_living         0\n",
       "sqft_lot            0\n",
       "floors              0\n",
       "waterfront       2376\n",
       "view               63\n",
       "condition           0\n",
       "grade               0\n",
       "sqft_above          0\n",
       "sqft_basement       0\n",
       "yr_built            0\n",
       "yr_renovated     3842\n",
       "zipcode             0\n",
       "lat                 0\n",
       "long                0\n",
       "sqft_living15       0\n",
       "sqft_lot15          0\n",
       "dtype: int64"
      ]
     },
     "execution_count": 5,
     "metadata": {},
     "output_type": "execute_result"
    }
   ],
   "source": [
    "df.isna().sum()"
   ]
  },
  {
   "cell_type": "code",
   "execution_count": 6,
   "metadata": {},
   "outputs": [
    {
     "data": {
      "text/plain": [
       "NO     19075\n",
       "YES      146\n",
       "Name: waterfront, dtype: int64"
      ]
     },
     "execution_count": 6,
     "metadata": {},
     "output_type": "execute_result"
    }
   ],
   "source": [
    "df['waterfront'].value_counts()\n",
    "#possibly use the mean to fill in missing values? also could just drop it but it is a substantial amount"
   ]
  },
  {
   "cell_type": "code",
   "execution_count": 7,
   "metadata": {},
   "outputs": [
    {
     "data": {
      "text/plain": [
       "0.0       17011\n",
       "2014.0       73\n",
       "2003.0       31\n",
       "2013.0       31\n",
       "2007.0       30\n",
       "          ...  \n",
       "1946.0        1\n",
       "1959.0        1\n",
       "1971.0        1\n",
       "1951.0        1\n",
       "1954.0        1\n",
       "Name: yr_renovated, Length: 70, dtype: int64"
      ]
     },
     "execution_count": 7,
     "metadata": {},
     "output_type": "execute_result"
    }
   ],
   "source": [
    "df['yr_renovated'].value_counts()\n",
    "#over 17000 missing results"
   ]
  },
  {
   "cell_type": "code",
   "execution_count": 8,
   "metadata": {
    "scrolled": true
   },
   "outputs": [
    {
     "data": {
      "text/plain": [
       "NONE         19422\n",
       "AVERAGE        957\n",
       "GOOD           508\n",
       "FAIR           330\n",
       "EXCELLENT      317\n",
       "Name: view, dtype: int64"
      ]
     },
     "execution_count": 8,
     "metadata": {},
     "output_type": "execute_result"
    }
   ],
   "source": [
    "#only 63 missing values of the view column, if we want to use it we can just drop.\n",
    "df['view'].value_counts()"
   ]
  },
  {
   "cell_type": "code",
   "execution_count": 9,
   "metadata": {},
   "outputs": [
    {
     "data": {
      "text/plain": [
       "Average      14020\n",
       "Good          5677\n",
       "Very Good     1701\n",
       "Fair           170\n",
       "Poor            29\n",
       "Name: condition, dtype: int64"
      ]
     },
     "execution_count": 9,
     "metadata": {},
     "output_type": "execute_result"
    }
   ],
   "source": [
    "df['condition'].value_counts()"
   ]
  },
  {
   "cell_type": "code",
   "execution_count": 10,
   "metadata": {},
   "outputs": [],
   "source": [
    "df.waterfront.replace({'NO': 0, 'YES': 1}, inplace=True)\n",
    "df.view.replace({'NONE': 0, 'FAIR': 1, 'AVERAGE': 2, 'GOOD': 3, 'EXCELLENT': 4}, inplace=True)\n",
    "df.condition.replace({'Poor': 0, 'Fair': 1, 'Average': 2, 'Good': 3, 'Very Good': 4}, inplace=True)\n",
    "df.grade.replace({'3 Poor': 0, '4 Low': 1, '5 Fair': 2, '6 Low Average': 3, '7 Average': 4, '8 Good': 5, \n",
    "                  '9 Better': 6, '10 Very Good': 7, '11 Excellent': 8, '12 Luxury': 9, '13 Mansion': 10}, inplace=True)\n",
    "df.sqft_basement.replace('?', np.NaN, inplace=True)\n",
    "df.sqft_basement = df.sqft_basement.astype(float)\n",
    "#Replacing all the 'object' values with numeric values so we can still use them."
   ]
  },
  {
   "cell_type": "code",
   "execution_count": 11,
   "metadata": {},
   "outputs": [],
   "source": [
    "df.dropna(axis=0, how='any', subset=['view'], inplace=True)\n",
    "#drop 63 rows because its a small amount for a relevant column"
   ]
  },
  {
   "cell_type": "code",
   "execution_count": 12,
   "metadata": {},
   "outputs": [
    {
     "data": {
      "text/plain": [
       "0"
      ]
     },
     "execution_count": 12,
     "metadata": {},
     "output_type": "execute_result"
    }
   ],
   "source": [
    "df['view'].isna().sum()"
   ]
  },
  {
   "cell_type": "code",
   "execution_count": 13,
   "metadata": {},
   "outputs": [],
   "source": [
    "df.fillna(0, inplace=True)"
   ]
  },
  {
   "cell_type": "code",
   "execution_count": 14,
   "metadata": {},
   "outputs": [
    {
     "data": {
      "text/plain": [
       "2    13981\n",
       "3     5657\n",
       "4     1697\n",
       "1      170\n",
       "0       29\n",
       "Name: condition, dtype: int64"
      ]
     },
     "execution_count": 14,
     "metadata": {},
     "output_type": "execute_result"
    }
   ],
   "source": [
    "df['condition'].value_counts()"
   ]
  },
  {
   "cell_type": "code",
   "execution_count": 15,
   "metadata": {},
   "outputs": [
    {
     "data": {
      "text/plain": [
       "0.0    19422\n",
       "2.0      957\n",
       "3.0      508\n",
       "1.0      330\n",
       "4.0      317\n",
       "Name: view, dtype: int64"
      ]
     },
     "execution_count": 15,
     "metadata": {},
     "output_type": "execute_result"
    }
   ],
   "source": [
    "df['view'].value_counts()"
   ]
  },
  {
   "cell_type": "code",
   "execution_count": 16,
   "metadata": {},
   "outputs": [
    {
     "data": {
      "text/plain": [
       "0.0    21389\n",
       "1.0      145\n",
       "Name: waterfront, dtype: int64"
      ]
     },
     "execution_count": 16,
     "metadata": {},
     "output_type": "execute_result"
    }
   ],
   "source": [
    "df['waterfront'].value_counts()"
   ]
  },
  {
   "cell_type": "code",
   "execution_count": 17,
   "metadata": {},
   "outputs": [
    {
     "name": "stdout",
     "output_type": "stream",
     "text": [
      "<class 'pandas.core.frame.DataFrame'>\n",
      "Int64Index: 21534 entries, 0 to 21596\n",
      "Data columns (total 21 columns):\n",
      " #   Column         Non-Null Count  Dtype  \n",
      "---  ------         --------------  -----  \n",
      " 0   id             21534 non-null  int64  \n",
      " 1   date           21534 non-null  object \n",
      " 2   price          21534 non-null  float64\n",
      " 3   bedrooms       21534 non-null  int64  \n",
      " 4   bathrooms      21534 non-null  float64\n",
      " 5   sqft_living    21534 non-null  int64  \n",
      " 6   sqft_lot       21534 non-null  int64  \n",
      " 7   floors         21534 non-null  float64\n",
      " 8   waterfront     21534 non-null  float64\n",
      " 9   view           21534 non-null  float64\n",
      " 10  condition      21534 non-null  int64  \n",
      " 11  grade          21534 non-null  int64  \n",
      " 12  sqft_above     21534 non-null  int64  \n",
      " 13  sqft_basement  21534 non-null  float64\n",
      " 14  yr_built       21534 non-null  int64  \n",
      " 15  yr_renovated   21534 non-null  float64\n",
      " 16  zipcode        21534 non-null  int64  \n",
      " 17  lat            21534 non-null  float64\n",
      " 18  long           21534 non-null  float64\n",
      " 19  sqft_living15  21534 non-null  int64  \n",
      " 20  sqft_lot15     21534 non-null  int64  \n",
      "dtypes: float64(9), int64(11), object(1)\n",
      "memory usage: 3.6+ MB\n"
     ]
    }
   ],
   "source": [
    "df.info()"
   ]
  },
  {
   "cell_type": "code",
   "execution_count": 18,
   "metadata": {
    "scrolled": false
   },
   "outputs": [
    {
     "data": {
      "text/html": [
       "<div>\n",
       "<style scoped>\n",
       "    .dataframe tbody tr th:only-of-type {\n",
       "        vertical-align: middle;\n",
       "    }\n",
       "\n",
       "    .dataframe tbody tr th {\n",
       "        vertical-align: top;\n",
       "    }\n",
       "\n",
       "    .dataframe thead th {\n",
       "        text-align: right;\n",
       "    }\n",
       "</style>\n",
       "<table border=\"1\" class=\"dataframe\">\n",
       "  <thead>\n",
       "    <tr style=\"text-align: right;\">\n",
       "      <th></th>\n",
       "      <th>id</th>\n",
       "      <th>price</th>\n",
       "      <th>bedrooms</th>\n",
       "      <th>bathrooms</th>\n",
       "      <th>sqft_living</th>\n",
       "      <th>sqft_lot</th>\n",
       "      <th>floors</th>\n",
       "      <th>waterfront</th>\n",
       "      <th>view</th>\n",
       "      <th>condition</th>\n",
       "      <th>grade</th>\n",
       "      <th>sqft_above</th>\n",
       "      <th>sqft_basement</th>\n",
       "      <th>yr_built</th>\n",
       "      <th>yr_renovated</th>\n",
       "      <th>zipcode</th>\n",
       "      <th>lat</th>\n",
       "      <th>long</th>\n",
       "      <th>sqft_living15</th>\n",
       "      <th>sqft_lot15</th>\n",
       "    </tr>\n",
       "  </thead>\n",
       "  <tbody>\n",
       "    <tr>\n",
       "      <th>id</th>\n",
       "      <td>1.000000</td>\n",
       "      <td>-0.017392</td>\n",
       "      <td>0.000991</td>\n",
       "      <td>0.004971</td>\n",
       "      <td>-0.012381</td>\n",
       "      <td>-0.132061</td>\n",
       "      <td>0.018573</td>\n",
       "      <td>-0.004259</td>\n",
       "      <td>0.011592</td>\n",
       "      <td>-0.023944</td>\n",
       "      <td>0.008331</td>\n",
       "      <td>-0.010967</td>\n",
       "      <td>-0.004312</td>\n",
       "      <td>0.021609</td>\n",
       "      <td>-0.010471</td>\n",
       "      <td>-0.008027</td>\n",
       "      <td>-0.002001</td>\n",
       "      <td>0.020637</td>\n",
       "      <td>-0.002707</td>\n",
       "      <td>-0.138607</td>\n",
       "    </tr>\n",
       "    <tr>\n",
       "      <th>price</th>\n",
       "      <td>-0.017392</td>\n",
       "      <td>1.000000</td>\n",
       "      <td>0.308063</td>\n",
       "      <td>0.525053</td>\n",
       "      <td>0.701587</td>\n",
       "      <td>0.090338</td>\n",
       "      <td>0.257052</td>\n",
       "      <td>0.259220</td>\n",
       "      <td>0.395734</td>\n",
       "      <td>0.035393</td>\n",
       "      <td>0.668307</td>\n",
       "      <td>0.605695</td>\n",
       "      <td>0.319082</td>\n",
       "      <td>0.054273</td>\n",
       "      <td>0.117982</td>\n",
       "      <td>-0.053620</td>\n",
       "      <td>0.307868</td>\n",
       "      <td>0.022417</td>\n",
       "      <td>0.585304</td>\n",
       "      <td>0.083189</td>\n",
       "    </tr>\n",
       "    <tr>\n",
       "      <th>bedrooms</th>\n",
       "      <td>0.000991</td>\n",
       "      <td>0.308063</td>\n",
       "      <td>1.000000</td>\n",
       "      <td>0.514368</td>\n",
       "      <td>0.577934</td>\n",
       "      <td>0.032735</td>\n",
       "      <td>0.177391</td>\n",
       "      <td>-0.003733</td>\n",
       "      <td>0.078523</td>\n",
       "      <td>0.026402</td>\n",
       "      <td>0.356095</td>\n",
       "      <td>0.479148</td>\n",
       "      <td>0.296548</td>\n",
       "      <td>0.155462</td>\n",
       "      <td>0.017797</td>\n",
       "      <td>-0.153990</td>\n",
       "      <td>-0.010415</td>\n",
       "      <td>0.132318</td>\n",
       "      <td>0.392874</td>\n",
       "      <td>0.030952</td>\n",
       "    </tr>\n",
       "    <tr>\n",
       "      <th>bathrooms</th>\n",
       "      <td>0.004971</td>\n",
       "      <td>0.525053</td>\n",
       "      <td>0.514368</td>\n",
       "      <td>1.000000</td>\n",
       "      <td>0.755277</td>\n",
       "      <td>0.088921</td>\n",
       "      <td>0.502285</td>\n",
       "      <td>0.061115</td>\n",
       "      <td>0.186451</td>\n",
       "      <td>-0.126682</td>\n",
       "      <td>0.665312</td>\n",
       "      <td>0.686173</td>\n",
       "      <td>0.277583</td>\n",
       "      <td>0.507565</td>\n",
       "      <td>0.046955</td>\n",
       "      <td>-0.204435</td>\n",
       "      <td>0.024487</td>\n",
       "      <td>0.225025</td>\n",
       "      <td>0.569139</td>\n",
       "      <td>0.088854</td>\n",
       "    </tr>\n",
       "    <tr>\n",
       "      <th>sqft_living</th>\n",
       "      <td>-0.012381</td>\n",
       "      <td>0.701587</td>\n",
       "      <td>0.577934</td>\n",
       "      <td>0.755277</td>\n",
       "      <td>1.000000</td>\n",
       "      <td>0.173768</td>\n",
       "      <td>0.353529</td>\n",
       "      <td>0.101982</td>\n",
       "      <td>0.282532</td>\n",
       "      <td>-0.059783</td>\n",
       "      <td>0.762398</td>\n",
       "      <td>0.876553</td>\n",
       "      <td>0.427422</td>\n",
       "      <td>0.318217</td>\n",
       "      <td>0.050871</td>\n",
       "      <td>-0.199839</td>\n",
       "      <td>0.052383</td>\n",
       "      <td>0.241856</td>\n",
       "      <td>0.756208</td>\n",
       "      <td>0.184801</td>\n",
       "    </tr>\n",
       "    <tr>\n",
       "      <th>sqft_lot</th>\n",
       "      <td>-0.132061</td>\n",
       "      <td>0.090338</td>\n",
       "      <td>0.032735</td>\n",
       "      <td>0.088921</td>\n",
       "      <td>0.173768</td>\n",
       "      <td>1.000000</td>\n",
       "      <td>-0.005025</td>\n",
       "      <td>0.021465</td>\n",
       "      <td>0.075298</td>\n",
       "      <td>-0.008375</td>\n",
       "      <td>0.115122</td>\n",
       "      <td>0.184325</td>\n",
       "      <td>0.015097</td>\n",
       "      <td>0.052646</td>\n",
       "      <td>0.005091</td>\n",
       "      <td>-0.129846</td>\n",
       "      <td>-0.085143</td>\n",
       "      <td>0.230137</td>\n",
       "      <td>0.145142</td>\n",
       "      <td>0.717095</td>\n",
       "    </tr>\n",
       "    <tr>\n",
       "      <th>floors</th>\n",
       "      <td>0.018573</td>\n",
       "      <td>0.257052</td>\n",
       "      <td>0.177391</td>\n",
       "      <td>0.502285</td>\n",
       "      <td>0.353529</td>\n",
       "      <td>-0.005025</td>\n",
       "      <td>1.000000</td>\n",
       "      <td>0.020357</td>\n",
       "      <td>0.028436</td>\n",
       "      <td>-0.264138</td>\n",
       "      <td>0.458694</td>\n",
       "      <td>0.523367</td>\n",
       "      <td>-0.242348</td>\n",
       "      <td>0.489410</td>\n",
       "      <td>0.003317</td>\n",
       "      <td>-0.058966</td>\n",
       "      <td>0.049419</td>\n",
       "      <td>0.125329</td>\n",
       "      <td>0.279176</td>\n",
       "      <td>-0.010850</td>\n",
       "    </tr>\n",
       "    <tr>\n",
       "      <th>waterfront</th>\n",
       "      <td>-0.004259</td>\n",
       "      <td>0.259220</td>\n",
       "      <td>-0.003733</td>\n",
       "      <td>0.061115</td>\n",
       "      <td>0.101982</td>\n",
       "      <td>0.021465</td>\n",
       "      <td>0.020357</td>\n",
       "      <td>1.000000</td>\n",
       "      <td>0.382000</td>\n",
       "      <td>0.016224</td>\n",
       "      <td>0.081195</td>\n",
       "      <td>0.069931</td>\n",
       "      <td>0.080917</td>\n",
       "      <td>-0.025000</td>\n",
       "      <td>0.074327</td>\n",
       "      <td>0.029490</td>\n",
       "      <td>-0.012282</td>\n",
       "      <td>-0.037845</td>\n",
       "      <td>0.082352</td>\n",
       "      <td>0.030605</td>\n",
       "    </tr>\n",
       "    <tr>\n",
       "      <th>view</th>\n",
       "      <td>0.011592</td>\n",
       "      <td>0.395734</td>\n",
       "      <td>0.078523</td>\n",
       "      <td>0.186451</td>\n",
       "      <td>0.282532</td>\n",
       "      <td>0.075298</td>\n",
       "      <td>0.028436</td>\n",
       "      <td>0.382000</td>\n",
       "      <td>1.000000</td>\n",
       "      <td>0.045735</td>\n",
       "      <td>0.249727</td>\n",
       "      <td>0.166299</td>\n",
       "      <td>0.271689</td>\n",
       "      <td>-0.054564</td>\n",
       "      <td>0.090324</td>\n",
       "      <td>0.085277</td>\n",
       "      <td>0.006141</td>\n",
       "      <td>-0.077894</td>\n",
       "      <td>0.279561</td>\n",
       "      <td>0.073332</td>\n",
       "    </tr>\n",
       "    <tr>\n",
       "      <th>condition</th>\n",
       "      <td>-0.023944</td>\n",
       "      <td>0.035393</td>\n",
       "      <td>0.026402</td>\n",
       "      <td>-0.126682</td>\n",
       "      <td>-0.059783</td>\n",
       "      <td>-0.008375</td>\n",
       "      <td>-0.264138</td>\n",
       "      <td>0.016224</td>\n",
       "      <td>0.045735</td>\n",
       "      <td>1.000000</td>\n",
       "      <td>-0.147326</td>\n",
       "      <td>-0.158830</td>\n",
       "      <td>0.167889</td>\n",
       "      <td>-0.361398</td>\n",
       "      <td>-0.055730</td>\n",
       "      <td>0.002125</td>\n",
       "      <td>-0.015594</td>\n",
       "      <td>-0.105475</td>\n",
       "      <td>-0.093172</td>\n",
       "      <td>-0.002702</td>\n",
       "    </tr>\n",
       "    <tr>\n",
       "      <th>grade</th>\n",
       "      <td>0.008331</td>\n",
       "      <td>0.668307</td>\n",
       "      <td>0.356095</td>\n",
       "      <td>0.665312</td>\n",
       "      <td>0.762398</td>\n",
       "      <td>0.115122</td>\n",
       "      <td>0.458694</td>\n",
       "      <td>0.081195</td>\n",
       "      <td>0.249727</td>\n",
       "      <td>-0.147326</td>\n",
       "      <td>1.000000</td>\n",
       "      <td>0.755977</td>\n",
       "      <td>0.164272</td>\n",
       "      <td>0.448255</td>\n",
       "      <td>0.015235</td>\n",
       "      <td>-0.185710</td>\n",
       "      <td>0.113787</td>\n",
       "      <td>0.200821</td>\n",
       "      <td>0.713462</td>\n",
       "      <td>0.121435</td>\n",
       "    </tr>\n",
       "    <tr>\n",
       "      <th>sqft_above</th>\n",
       "      <td>-0.010967</td>\n",
       "      <td>0.605695</td>\n",
       "      <td>0.479148</td>\n",
       "      <td>0.686173</td>\n",
       "      <td>0.876553</td>\n",
       "      <td>0.184325</td>\n",
       "      <td>0.523367</td>\n",
       "      <td>0.069931</td>\n",
       "      <td>0.166299</td>\n",
       "      <td>-0.158830</td>\n",
       "      <td>0.755977</td>\n",
       "      <td>1.000000</td>\n",
       "      <td>-0.052292</td>\n",
       "      <td>0.423999</td>\n",
       "      <td>0.020216</td>\n",
       "      <td>-0.261480</td>\n",
       "      <td>-0.000889</td>\n",
       "      <td>0.345051</td>\n",
       "      <td>0.731543</td>\n",
       "      <td>0.195413</td>\n",
       "    </tr>\n",
       "    <tr>\n",
       "      <th>sqft_basement</th>\n",
       "      <td>-0.004312</td>\n",
       "      <td>0.319082</td>\n",
       "      <td>0.296548</td>\n",
       "      <td>0.277583</td>\n",
       "      <td>0.427422</td>\n",
       "      <td>0.015097</td>\n",
       "      <td>-0.242348</td>\n",
       "      <td>0.080917</td>\n",
       "      <td>0.271689</td>\n",
       "      <td>0.167889</td>\n",
       "      <td>0.164272</td>\n",
       "      <td>-0.052292</td>\n",
       "      <td>1.000000</td>\n",
       "      <td>-0.130474</td>\n",
       "      <td>0.065415</td>\n",
       "      <td>0.073385</td>\n",
       "      <td>0.109791</td>\n",
       "      <td>-0.141918</td>\n",
       "      <td>0.198399</td>\n",
       "      <td>0.015947</td>\n",
       "    </tr>\n",
       "    <tr>\n",
       "      <th>yr_built</th>\n",
       "      <td>0.021609</td>\n",
       "      <td>0.054273</td>\n",
       "      <td>0.155462</td>\n",
       "      <td>0.507565</td>\n",
       "      <td>0.318217</td>\n",
       "      <td>0.052646</td>\n",
       "      <td>0.489410</td>\n",
       "      <td>-0.025000</td>\n",
       "      <td>-0.054564</td>\n",
       "      <td>-0.361398</td>\n",
       "      <td>0.448255</td>\n",
       "      <td>0.423999</td>\n",
       "      <td>-0.130474</td>\n",
       "      <td>1.000000</td>\n",
       "      <td>-0.202467</td>\n",
       "      <td>-0.346585</td>\n",
       "      <td>-0.147850</td>\n",
       "      <td>0.409666</td>\n",
       "      <td>0.326539</td>\n",
       "      <td>0.070562</td>\n",
       "    </tr>\n",
       "    <tr>\n",
       "      <th>yr_renovated</th>\n",
       "      <td>-0.010471</td>\n",
       "      <td>0.117982</td>\n",
       "      <td>0.017797</td>\n",
       "      <td>0.046955</td>\n",
       "      <td>0.050871</td>\n",
       "      <td>0.005091</td>\n",
       "      <td>0.003317</td>\n",
       "      <td>0.074327</td>\n",
       "      <td>0.090324</td>\n",
       "      <td>-0.055730</td>\n",
       "      <td>0.015235</td>\n",
       "      <td>0.020216</td>\n",
       "      <td>0.065415</td>\n",
       "      <td>-0.202467</td>\n",
       "      <td>1.000000</td>\n",
       "      <td>0.062422</td>\n",
       "      <td>0.027792</td>\n",
       "      <td>-0.064546</td>\n",
       "      <td>0.000308</td>\n",
       "      <td>0.004413</td>\n",
       "    </tr>\n",
       "    <tr>\n",
       "      <th>zipcode</th>\n",
       "      <td>-0.008027</td>\n",
       "      <td>-0.053620</td>\n",
       "      <td>-0.153990</td>\n",
       "      <td>-0.204435</td>\n",
       "      <td>-0.199839</td>\n",
       "      <td>-0.129846</td>\n",
       "      <td>-0.058966</td>\n",
       "      <td>0.029490</td>\n",
       "      <td>0.085277</td>\n",
       "      <td>0.002125</td>\n",
       "      <td>-0.185710</td>\n",
       "      <td>-0.261480</td>\n",
       "      <td>0.073385</td>\n",
       "      <td>-0.346585</td>\n",
       "      <td>0.062422</td>\n",
       "      <td>1.000000</td>\n",
       "      <td>0.266595</td>\n",
       "      <td>-0.564279</td>\n",
       "      <td>-0.279375</td>\n",
       "      <td>-0.147519</td>\n",
       "    </tr>\n",
       "    <tr>\n",
       "      <th>lat</th>\n",
       "      <td>-0.002001</td>\n",
       "      <td>0.307868</td>\n",
       "      <td>-0.010415</td>\n",
       "      <td>0.024487</td>\n",
       "      <td>0.052383</td>\n",
       "      <td>-0.085143</td>\n",
       "      <td>0.049419</td>\n",
       "      <td>-0.012282</td>\n",
       "      <td>0.006141</td>\n",
       "      <td>-0.015594</td>\n",
       "      <td>0.113787</td>\n",
       "      <td>-0.000889</td>\n",
       "      <td>0.109791</td>\n",
       "      <td>-0.147850</td>\n",
       "      <td>0.027792</td>\n",
       "      <td>0.266595</td>\n",
       "      <td>1.000000</td>\n",
       "      <td>-0.135439</td>\n",
       "      <td>0.048569</td>\n",
       "      <td>-0.086035</td>\n",
       "    </tr>\n",
       "    <tr>\n",
       "      <th>long</th>\n",
       "      <td>0.020637</td>\n",
       "      <td>0.022417</td>\n",
       "      <td>0.132318</td>\n",
       "      <td>0.225025</td>\n",
       "      <td>0.241856</td>\n",
       "      <td>0.230137</td>\n",
       "      <td>0.125329</td>\n",
       "      <td>-0.037845</td>\n",
       "      <td>-0.077894</td>\n",
       "      <td>-0.105475</td>\n",
       "      <td>0.200821</td>\n",
       "      <td>0.345051</td>\n",
       "      <td>-0.141918</td>\n",
       "      <td>0.409666</td>\n",
       "      <td>-0.064546</td>\n",
       "      <td>-0.564279</td>\n",
       "      <td>-0.135439</td>\n",
       "      <td>1.000000</td>\n",
       "      <td>0.336019</td>\n",
       "      <td>0.255283</td>\n",
       "    </tr>\n",
       "    <tr>\n",
       "      <th>sqft_living15</th>\n",
       "      <td>-0.002707</td>\n",
       "      <td>0.585304</td>\n",
       "      <td>0.392874</td>\n",
       "      <td>0.569139</td>\n",
       "      <td>0.756208</td>\n",
       "      <td>0.145142</td>\n",
       "      <td>0.279176</td>\n",
       "      <td>0.082352</td>\n",
       "      <td>0.279561</td>\n",
       "      <td>-0.093172</td>\n",
       "      <td>0.713462</td>\n",
       "      <td>0.731543</td>\n",
       "      <td>0.198399</td>\n",
       "      <td>0.326539</td>\n",
       "      <td>0.000308</td>\n",
       "      <td>-0.279375</td>\n",
       "      <td>0.048569</td>\n",
       "      <td>0.336019</td>\n",
       "      <td>1.000000</td>\n",
       "      <td>0.183952</td>\n",
       "    </tr>\n",
       "    <tr>\n",
       "      <th>sqft_lot15</th>\n",
       "      <td>-0.138607</td>\n",
       "      <td>0.083189</td>\n",
       "      <td>0.030952</td>\n",
       "      <td>0.088854</td>\n",
       "      <td>0.184801</td>\n",
       "      <td>0.717095</td>\n",
       "      <td>-0.010850</td>\n",
       "      <td>0.030605</td>\n",
       "      <td>0.073332</td>\n",
       "      <td>-0.002702</td>\n",
       "      <td>0.121435</td>\n",
       "      <td>0.195413</td>\n",
       "      <td>0.015947</td>\n",
       "      <td>0.070562</td>\n",
       "      <td>0.004413</td>\n",
       "      <td>-0.147519</td>\n",
       "      <td>-0.086035</td>\n",
       "      <td>0.255283</td>\n",
       "      <td>0.183952</td>\n",
       "      <td>1.000000</td>\n",
       "    </tr>\n",
       "  </tbody>\n",
       "</table>\n",
       "</div>"
      ],
      "text/plain": [
       "                     id     price  bedrooms  bathrooms  sqft_living  sqft_lot  \\\n",
       "id             1.000000 -0.017392  0.000991   0.004971    -0.012381 -0.132061   \n",
       "price         -0.017392  1.000000  0.308063   0.525053     0.701587  0.090338   \n",
       "bedrooms       0.000991  0.308063  1.000000   0.514368     0.577934  0.032735   \n",
       "bathrooms      0.004971  0.525053  0.514368   1.000000     0.755277  0.088921   \n",
       "sqft_living   -0.012381  0.701587  0.577934   0.755277     1.000000  0.173768   \n",
       "sqft_lot      -0.132061  0.090338  0.032735   0.088921     0.173768  1.000000   \n",
       "floors         0.018573  0.257052  0.177391   0.502285     0.353529 -0.005025   \n",
       "waterfront    -0.004259  0.259220 -0.003733   0.061115     0.101982  0.021465   \n",
       "view           0.011592  0.395734  0.078523   0.186451     0.282532  0.075298   \n",
       "condition     -0.023944  0.035393  0.026402  -0.126682    -0.059783 -0.008375   \n",
       "grade          0.008331  0.668307  0.356095   0.665312     0.762398  0.115122   \n",
       "sqft_above    -0.010967  0.605695  0.479148   0.686173     0.876553  0.184325   \n",
       "sqft_basement -0.004312  0.319082  0.296548   0.277583     0.427422  0.015097   \n",
       "yr_built       0.021609  0.054273  0.155462   0.507565     0.318217  0.052646   \n",
       "yr_renovated  -0.010471  0.117982  0.017797   0.046955     0.050871  0.005091   \n",
       "zipcode       -0.008027 -0.053620 -0.153990  -0.204435    -0.199839 -0.129846   \n",
       "lat           -0.002001  0.307868 -0.010415   0.024487     0.052383 -0.085143   \n",
       "long           0.020637  0.022417  0.132318   0.225025     0.241856  0.230137   \n",
       "sqft_living15 -0.002707  0.585304  0.392874   0.569139     0.756208  0.145142   \n",
       "sqft_lot15    -0.138607  0.083189  0.030952   0.088854     0.184801  0.717095   \n",
       "\n",
       "                 floors  waterfront      view  condition     grade  \\\n",
       "id             0.018573   -0.004259  0.011592  -0.023944  0.008331   \n",
       "price          0.257052    0.259220  0.395734   0.035393  0.668307   \n",
       "bedrooms       0.177391   -0.003733  0.078523   0.026402  0.356095   \n",
       "bathrooms      0.502285    0.061115  0.186451  -0.126682  0.665312   \n",
       "sqft_living    0.353529    0.101982  0.282532  -0.059783  0.762398   \n",
       "sqft_lot      -0.005025    0.021465  0.075298  -0.008375  0.115122   \n",
       "floors         1.000000    0.020357  0.028436  -0.264138  0.458694   \n",
       "waterfront     0.020357    1.000000  0.382000   0.016224  0.081195   \n",
       "view           0.028436    0.382000  1.000000   0.045735  0.249727   \n",
       "condition     -0.264138    0.016224  0.045735   1.000000 -0.147326   \n",
       "grade          0.458694    0.081195  0.249727  -0.147326  1.000000   \n",
       "sqft_above     0.523367    0.069931  0.166299  -0.158830  0.755977   \n",
       "sqft_basement -0.242348    0.080917  0.271689   0.167889  0.164272   \n",
       "yr_built       0.489410   -0.025000 -0.054564  -0.361398  0.448255   \n",
       "yr_renovated   0.003317    0.074327  0.090324  -0.055730  0.015235   \n",
       "zipcode       -0.058966    0.029490  0.085277   0.002125 -0.185710   \n",
       "lat            0.049419   -0.012282  0.006141  -0.015594  0.113787   \n",
       "long           0.125329   -0.037845 -0.077894  -0.105475  0.200821   \n",
       "sqft_living15  0.279176    0.082352  0.279561  -0.093172  0.713462   \n",
       "sqft_lot15    -0.010850    0.030605  0.073332  -0.002702  0.121435   \n",
       "\n",
       "               sqft_above  sqft_basement  yr_built  yr_renovated   zipcode  \\\n",
       "id              -0.010967      -0.004312  0.021609     -0.010471 -0.008027   \n",
       "price            0.605695       0.319082  0.054273      0.117982 -0.053620   \n",
       "bedrooms         0.479148       0.296548  0.155462      0.017797 -0.153990   \n",
       "bathrooms        0.686173       0.277583  0.507565      0.046955 -0.204435   \n",
       "sqft_living      0.876553       0.427422  0.318217      0.050871 -0.199839   \n",
       "sqft_lot         0.184325       0.015097  0.052646      0.005091 -0.129846   \n",
       "floors           0.523367      -0.242348  0.489410      0.003317 -0.058966   \n",
       "waterfront       0.069931       0.080917 -0.025000      0.074327  0.029490   \n",
       "view             0.166299       0.271689 -0.054564      0.090324  0.085277   \n",
       "condition       -0.158830       0.167889 -0.361398     -0.055730  0.002125   \n",
       "grade            0.755977       0.164272  0.448255      0.015235 -0.185710   \n",
       "sqft_above       1.000000      -0.052292  0.423999      0.020216 -0.261480   \n",
       "sqft_basement   -0.052292       1.000000 -0.130474      0.065415  0.073385   \n",
       "yr_built         0.423999      -0.130474  1.000000     -0.202467 -0.346585   \n",
       "yr_renovated     0.020216       0.065415 -0.202467      1.000000  0.062422   \n",
       "zipcode         -0.261480       0.073385 -0.346585      0.062422  1.000000   \n",
       "lat             -0.000889       0.109791 -0.147850      0.027792  0.266595   \n",
       "long             0.345051      -0.141918  0.409666     -0.064546 -0.564279   \n",
       "sqft_living15    0.731543       0.198399  0.326539      0.000308 -0.279375   \n",
       "sqft_lot15       0.195413       0.015947  0.070562      0.004413 -0.147519   \n",
       "\n",
       "                    lat      long  sqft_living15  sqft_lot15  \n",
       "id            -0.002001  0.020637      -0.002707   -0.138607  \n",
       "price          0.307868  0.022417       0.585304    0.083189  \n",
       "bedrooms      -0.010415  0.132318       0.392874    0.030952  \n",
       "bathrooms      0.024487  0.225025       0.569139    0.088854  \n",
       "sqft_living    0.052383  0.241856       0.756208    0.184801  \n",
       "sqft_lot      -0.085143  0.230137       0.145142    0.717095  \n",
       "floors         0.049419  0.125329       0.279176   -0.010850  \n",
       "waterfront    -0.012282 -0.037845       0.082352    0.030605  \n",
       "view           0.006141 -0.077894       0.279561    0.073332  \n",
       "condition     -0.015594 -0.105475      -0.093172   -0.002702  \n",
       "grade          0.113787  0.200821       0.713462    0.121435  \n",
       "sqft_above    -0.000889  0.345051       0.731543    0.195413  \n",
       "sqft_basement  0.109791 -0.141918       0.198399    0.015947  \n",
       "yr_built      -0.147850  0.409666       0.326539    0.070562  \n",
       "yr_renovated   0.027792 -0.064546       0.000308    0.004413  \n",
       "zipcode        0.266595 -0.564279      -0.279375   -0.147519  \n",
       "lat            1.000000 -0.135439       0.048569   -0.086035  \n",
       "long          -0.135439  1.000000       0.336019    0.255283  \n",
       "sqft_living15  0.048569  0.336019       1.000000    0.183952  \n",
       "sqft_lot15    -0.086035  0.255283       0.183952    1.000000  "
      ]
     },
     "execution_count": 18,
     "metadata": {},
     "output_type": "execute_result"
    }
   ],
   "source": [
    "df.corr()"
   ]
  },
  {
   "cell_type": "code",
   "execution_count": 19,
   "metadata": {
    "scrolled": true
   },
   "outputs": [
    {
     "data": {
      "image/png": "[encoded data removed]",
      "text/plain": [
       "<Figure size 1224x1224 with 2 Axes>"
      ]
     },
     "metadata": {
      "needs_background": "light"
     },
     "output_type": "display_data"
    }
   ],
   "source": [
    "corrMatrix = df.corr()\n",
    "matrix = np.triu(corrMatrix)\n",
    "\n",
    "# Put corr matrix in seaborn heat map\n",
    "fig, ax = plt.subplots(figsize=(17,17)) \n",
    "sns.heatmap(corrMatrix, annot=True, mask=matrix)\n",
    "plt.title('Correlation Matrix of King County Housing data', size=30)\n",
    "plt.xlabel('House features', size=30)\n",
    "plt.ylabel('House features', size=30)\n",
    "plt.xticks(size=20)\n",
    "plt.yticks(size=20);"
   ]
  },
  {
   "cell_type": "markdown",
   "metadata": {},
   "source": [
    "## Creating basic MPL and Seaborn visualizations based off of high/low corr"
   ]
  },
  {
   "cell_type": "code",
   "execution_count": null,
   "metadata": {},
   "outputs": [],
   "source": []
  },
  {
   "cell_type": "code",
   "execution_count": 20,
   "metadata": {},
   "outputs": [
    {
     "data": {
      "image/png": "[encoded data removed]",
      "text/plain": [
       "<Figure size 432x288 with 1 Axes>"
      ]
     },
     "metadata": {
      "needs_background": "light"
     },
     "output_type": "display_data"
    }
   ],
   "source": [
    "y = df['price']\n",
    "\n",
    "X = df['sqft_living']\n",
    "\n",
    "fig, ax = plt.subplots()\n",
    "ax.scatter(X, y)\n",
    "ax.set_title('living sqft vs Price');"
   ]
  },
  {
   "cell_type": "code",
   "execution_count": 21,
   "metadata": {},
   "outputs": [
    {
     "data": {
      "image/png": "[encoded data removed]",
      "text/plain": [
       "<Figure size 432x288 with 1 Axes>"
      ]
     },
     "metadata": {
      "needs_background": "light"
     },
     "output_type": "display_data"
    }
   ],
   "source": [
    "X1 = df['sqft_above']\n",
    "\n",
    "fig, ax = plt.subplots()\n",
    "ax.scatter(X1, y)\n",
    "ax.set_title('sqft above vs Price');"
   ]
  },
  {
   "cell_type": "code",
   "execution_count": 22,
   "metadata": {
    "scrolled": true
   },
   "outputs": [
    {
     "data": {
      "image/png": "[encoded data removed]",
      "text/plain": [
       "<Figure size 432x288 with 1 Axes>"
      ]
     },
     "metadata": {
      "needs_background": "light"
     },
     "output_type": "display_data"
    }
   ],
   "source": [
    "X2 = df['bathrooms']\n",
    "\n",
    "fig, ax = plt.subplots()\n",
    "ax.scatter(X2, y)\n",
    "ax.set_title('bathrooms vs Price');"
   ]
  },
  {
   "cell_type": "code",
   "execution_count": 23,
   "metadata": {},
   "outputs": [],
   "source": [
    "def determine_outlier_thresholds_iqr(dataframe, col_name, th1=0.25, th3=0.75):\n",
    "    quartile1 = dataframe[col_name].quantile(th1)\n",
    "    quartile3 = dataframe[col_name].quantile(th3)\n",
    "    iqr = quartile3 - quartile1\n",
    "    upper_limit = quartile3 + 1.5 * iqr\n",
    "    lower_limit = quartile1 - 1.5 * iqr\n",
    "    return upper_limit"
   ]
  },
  {
   "cell_type": "code",
   "execution_count": 24,
   "metadata": {},
   "outputs": [],
   "source": [
    "#bedrooms = df.bedrooms.values\n",
    "#upper_limit = determine_outlier_thresholds_iqr(df, 'bedrooms')\n",
    "#irrelevant_col = df.apply(np.argwhere(determine_outlier_thresholds_iqr))\n",
    "#bedrooms_to_drop = np.argwhere(bedrooms>upper_limit)"
   ]
  },
  {
   "cell_type": "code",
   "execution_count": 25,
   "metadata": {},
   "outputs": [
    {
     "data": {
      "text/plain": [
       "5.5"
      ]
     },
     "execution_count": 25,
     "metadata": {},
     "output_type": "execute_result"
    }
   ],
   "source": [
    "determine_outlier_thresholds_iqr(df, 'bedrooms')"
   ]
  },
  {
   "cell_type": "code",
   "execution_count": null,
   "metadata": {
    "scrolled": true
   },
   "outputs": [],
   "source": []
  },
  {
   "cell_type": "code",
   "execution_count": 26,
   "metadata": {},
   "outputs": [],
   "source": [
    "lr = LinearRegression()"
   ]
  },
  {
   "cell_type": "code",
   "execution_count": 27,
   "metadata": {},
   "outputs": [
    {
     "data": {
      "text/plain": [
       "0.7002298349397336"
      ]
     },
     "execution_count": 27,
     "metadata": {},
     "output_type": "execute_result"
    }
   ],
   "source": [
    "df.fillna(value=0, inplace=True)\n",
    "\n",
    "X = df.drop(['price', 'date'], axis=1)\n",
    "y = df[['price']]\n",
    "\n",
    "lr.fit(X,y)\n",
    "lr.score(X, y)"
   ]
  },
  {
   "cell_type": "code",
   "execution_count": 28,
   "metadata": {},
   "outputs": [],
   "source": [
    "#n = len(sample)\n",
    "#mean = np.mean(sample)\n",
    "#std = np.std(sample)\n",
    "\n",
    "#SE = std / np.sqrt(n)\n",
    "#z = stats.norm.ppf(.975)\n",
    "\n",
    "#conf_low = mean - z*SE\n",
    "#conf_high = mean + z*SE\n",
    "\n",
    "#print(f'confidence interval, low: {conf_low}, high: {conf_high}')"
   ]
  },
  {
   "cell_type": "markdown",
   "metadata": {},
   "source": [
    "## Normality check"
   ]
  },
  {
   "cell_type": "code",
   "execution_count": 29,
   "metadata": {},
   "outputs": [
    {
     "data": {
      "image/png": "[encoded data removed]",
      "text/plain": [
       "<Figure size 432x288 with 1 Axes>"
      ]
     },
     "metadata": {
      "needs_background": "light"
     },
     "output_type": "display_data"
    },
    {
     "data": {
      "image/png": "[encoded data removed]",
      "text/plain": [
       "<Figure size 432x288 with 1 Axes>"
      ]
     },
     "metadata": {
      "needs_background": "light"
     },
     "output_type": "display_data"
    }
   ],
   "source": [
    "f2 = 'price ~ grade'\n",
    "formula_b = 'price ~ sqft_living'\n",
    "model_c = smf.ols(formula=f2, data=df).fit()\n",
    "model_b2 = smf.ols(formula=formula_b, data=df).fit()\n",
    "resid1 = model_c.resid\n",
    "resid2 = model_b2.resid\n",
    "fig = sm.graphics.qqplot(resid1, dist=stats.norm, line='45', fit=True)\n",
    "fig = sm.graphics.qqplot(resid2, dist=stats.norm, line='45', fit=True)"
   ]
  },
  {
   "cell_type": "code",
   "execution_count": null,
   "metadata": {},
   "outputs": [],
   "source": []
  },
  {
   "cell_type": "code",
   "execution_count": 30,
   "metadata": {},
   "outputs": [],
   "source": [
    "sqft_liv_array = np.array(df['sqft_living'])\n",
    "grade_array = np.array(df['grade'])"
   ]
  },
  {
   "cell_type": "code",
   "execution_count": null,
   "metadata": {},
   "outputs": [],
   "source": []
  },
  {
   "cell_type": "code",
   "execution_count": 31,
   "metadata": {},
   "outputs": [],
   "source": [
    "sqft_liv_log = np.log(sqft_liv_array)"
   ]
  },
  {
   "cell_type": "code",
   "execution_count": 32,
   "metadata": {},
   "outputs": [
    {
     "data": {
      "image/png": "[encoded data removed]",
      "text/plain": [
       "<Figure size 432x288 with 1 Axes>"
      ]
     },
     "metadata": {
      "needs_background": "light"
     },
     "output_type": "display_data"
    }
   ],
   "source": [
    "formula_b = 'price ~ sqft_liv_log'\n",
    "model_b2 = smf.ols(formula=formula_b, data=df).fit()\n",
    "resid2 = model_b2.resid\n",
    "fig = sm.graphics.qqplot(resid2, dist=stats.norm, line='45', fit=True)"
   ]
  },
  {
   "cell_type": "markdown",
   "metadata": {},
   "source": [
    "## Inferential models (ols)"
   ]
  },
  {
   "cell_type": "code",
   "execution_count": 33,
   "metadata": {},
   "outputs": [
    {
     "data": {
      "text/html": [
       "<table class=\"simpletable\">\n",
       "<caption>OLS Regression Results</caption>\n",
       "<tr>\n",
       "  <th>Dep. Variable:</th>          <td>price</td>      <th>  R-squared:         </th>  <td>   0.652</td>  \n",
       "</tr>\n",
       "<tr>\n",
       "  <th>Model:</th>                   <td>OLS</td>       <th>  Adj. R-squared:    </th>  <td>   0.652</td>  \n",
       "</tr>\n",
       "<tr>\n",
       "  <th>Method:</th>             <td>Least Squares</td>  <th>  F-statistic:       </th>  <td>   3107.</td>  \n",
       "</tr>\n",
       "<tr>\n",
       "  <th>Date:</th>             <td>Fri, 19 Nov 2021</td> <th>  Prob (F-statistic):</th>   <td>  0.00</td>   \n",
       "</tr>\n",
       "<tr>\n",
       "  <th>Time:</th>                 <td>08:17:48</td>     <th>  Log-Likelihood:    </th> <td>-2.9504e+05</td>\n",
       "</tr>\n",
       "<tr>\n",
       "  <th>No. Observations:</th>      <td> 21534</td>      <th>  AIC:               </th>  <td>5.901e+05</td> \n",
       "</tr>\n",
       "<tr>\n",
       "  <th>Df Residuals:</th>          <td> 21520</td>      <th>  BIC:               </th>  <td>5.902e+05</td> \n",
       "</tr>\n",
       "<tr>\n",
       "  <th>Df Model:</th>              <td>    13</td>      <th>                     </th>      <td> </td>     \n",
       "</tr>\n",
       "<tr>\n",
       "  <th>Covariance Type:</th>      <td>nonrobust</td>    <th>                     </th>      <td> </td>     \n",
       "</tr>\n",
       "</table>\n",
       "<table class=\"simpletable\">\n",
       "<tr>\n",
       "        <td></td>           <th>coef</th>     <th>std err</th>      <th>t</th>      <th>P>|t|</th>  <th>[0.025</th>    <th>0.975]</th>  \n",
       "</tr>\n",
       "<tr>\n",
       "  <th>Intercept</th>     <td> 6.569e+06</td> <td> 1.37e+05</td> <td>   48.082</td> <td> 0.000</td> <td>  6.3e+06</td> <td> 6.84e+06</td>\n",
       "</tr>\n",
       "<tr>\n",
       "  <th>bedrooms</th>      <td>-3.884e+04</td> <td> 2034.309</td> <td>  -19.094</td> <td> 0.000</td> <td>-4.28e+04</td> <td>-3.49e+04</td>\n",
       "</tr>\n",
       "<tr>\n",
       "  <th>bathrooms</th>     <td> 4.554e+04</td> <td> 3499.986</td> <td>   13.012</td> <td> 0.000</td> <td> 3.87e+04</td> <td> 5.24e+04</td>\n",
       "</tr>\n",
       "<tr>\n",
       "  <th>sqft_living</th>   <td>  112.5162</td> <td>   19.373</td> <td>    5.808</td> <td> 0.000</td> <td>   74.544</td> <td>  150.488</td>\n",
       "</tr>\n",
       "<tr>\n",
       "  <th>sqft_lot</th>      <td>   -0.2609</td> <td>    0.037</td> <td>   -7.123</td> <td> 0.000</td> <td>   -0.333</td> <td>   -0.189</td>\n",
       "</tr>\n",
       "<tr>\n",
       "  <th>floors</th>        <td> 2.457e+04</td> <td> 3736.893</td> <td>    6.576</td> <td> 0.000</td> <td> 1.72e+04</td> <td> 3.19e+04</td>\n",
       "</tr>\n",
       "<tr>\n",
       "  <th>waterfront</th>    <td>  5.85e+05</td> <td> 1.95e+04</td> <td>   29.972</td> <td> 0.000</td> <td> 5.47e+05</td> <td> 6.23e+05</td>\n",
       "</tr>\n",
       "<tr>\n",
       "  <th>view</th>          <td> 4.704e+04</td> <td> 2234.856</td> <td>   21.047</td> <td> 0.000</td> <td> 4.27e+04</td> <td> 5.14e+04</td>\n",
       "</tr>\n",
       "<tr>\n",
       "  <th>condition</th>     <td> 1.953e+04</td> <td> 2491.635</td> <td>    7.840</td> <td> 0.000</td> <td> 1.47e+04</td> <td> 2.44e+04</td>\n",
       "</tr>\n",
       "<tr>\n",
       "  <th>grade</th>         <td> 1.253e+05</td> <td> 2170.380</td> <td>   57.740</td> <td> 0.000</td> <td> 1.21e+05</td> <td>  1.3e+05</td>\n",
       "</tr>\n",
       "<tr>\n",
       "  <th>sqft_above</th>    <td>   56.4561</td> <td>   19.317</td> <td>    2.923</td> <td> 0.003</td> <td>   18.593</td> <td>   94.319</td>\n",
       "</tr>\n",
       "<tr>\n",
       "  <th>sqft_basement</th> <td>   58.1595</td> <td>   19.205</td> <td>    3.028</td> <td> 0.002</td> <td>   20.517</td> <td>   95.802</td>\n",
       "</tr>\n",
       "<tr>\n",
       "  <th>yr_built</th>      <td>-3564.3563</td> <td>   70.159</td> <td>  -50.804</td> <td> 0.000</td> <td>-3701.873</td> <td>-3426.839</td>\n",
       "</tr>\n",
       "<tr>\n",
       "  <th>yr_renovated</th>  <td>   13.1459</td> <td>    4.257</td> <td>    3.088</td> <td> 0.002</td> <td>    4.801</td> <td>   21.491</td>\n",
       "</tr>\n",
       "</table>\n",
       "<table class=\"simpletable\">\n",
       "<tr>\n",
       "  <th>Omnibus:</th>       <td>15886.024</td> <th>  Durbin-Watson:     </th>  <td>   1.978</td>  \n",
       "</tr>\n",
       "<tr>\n",
       "  <th>Prob(Omnibus):</th>  <td> 0.000</td>   <th>  Jarque-Bera (JB):  </th> <td>1070355.984</td>\n",
       "</tr>\n",
       "<tr>\n",
       "  <th>Skew:</th>           <td> 2.942</td>   <th>  Prob(JB):          </th>  <td>    0.00</td>  \n",
       "</tr>\n",
       "<tr>\n",
       "  <th>Kurtosis:</th>       <td>37.034</td>   <th>  Cond. No.          </th>  <td>4.09e+06</td>  \n",
       "</tr>\n",
       "</table><br/><br/>Notes:<br/>[1] Standard Errors assume that the covariance matrix of the errors is correctly specified.<br/>[2] The condition number is large, 4.09e+06. This might indicate that there are<br/>strong multicollinearity or other numerical problems."
      ],
      "text/plain": [
       "<class 'statsmodels.iolib.summary.Summary'>\n",
       "\"\"\"\n",
       "                            OLS Regression Results                            \n",
       "==============================================================================\n",
       "Dep. Variable:                  price   R-squared:                       0.652\n",
       "Model:                            OLS   Adj. R-squared:                  0.652\n",
       "Method:                 Least Squares   F-statistic:                     3107.\n",
       "Date:                Fri, 19 Nov 2021   Prob (F-statistic):               0.00\n",
       "Time:                        08:17:48   Log-Likelihood:            -2.9504e+05\n",
       "No. Observations:               21534   AIC:                         5.901e+05\n",
       "Df Residuals:                   21520   BIC:                         5.902e+05\n",
       "Df Model:                          13                                         \n",
       "Covariance Type:            nonrobust                                         \n",
       "=================================================================================\n",
       "                    coef    std err          t      P>|t|      [0.025      0.975]\n",
       "---------------------------------------------------------------------------------\n",
       "Intercept      6.569e+06   1.37e+05     48.082      0.000     6.3e+06    6.84e+06\n",
       "bedrooms      -3.884e+04   2034.309    -19.094      0.000   -4.28e+04   -3.49e+04\n",
       "bathrooms      4.554e+04   3499.986     13.012      0.000    3.87e+04    5.24e+04\n",
       "sqft_living     112.5162     19.373      5.808      0.000      74.544     150.488\n",
       "sqft_lot         -0.2609      0.037     -7.123      0.000      -0.333      -0.189\n",
       "floors         2.457e+04   3736.893      6.576      0.000    1.72e+04    3.19e+04\n",
       "waterfront      5.85e+05   1.95e+04     29.972      0.000    5.47e+05    6.23e+05\n",
       "view           4.704e+04   2234.856     21.047      0.000    4.27e+04    5.14e+04\n",
       "condition      1.953e+04   2491.635      7.840      0.000    1.47e+04    2.44e+04\n",
       "grade          1.253e+05   2170.380     57.740      0.000    1.21e+05     1.3e+05\n",
       "sqft_above       56.4561     19.317      2.923      0.003      18.593      94.319\n",
       "sqft_basement    58.1595     19.205      3.028      0.002      20.517      95.802\n",
       "yr_built      -3564.3563     70.159    -50.804      0.000   -3701.873   -3426.839\n",
       "yr_renovated     13.1459      4.257      3.088      0.002       4.801      21.491\n",
       "==============================================================================\n",
       "Omnibus:                    15886.024   Durbin-Watson:                   1.978\n",
       "Prob(Omnibus):                  0.000   Jarque-Bera (JB):          1070355.984\n",
       "Skew:                           2.942   Prob(JB):                         0.00\n",
       "Kurtosis:                      37.034   Cond. No.                     4.09e+06\n",
       "==============================================================================\n",
       "\n",
       "Notes:\n",
       "[1] Standard Errors assume that the covariance matrix of the errors is correctly specified.\n",
       "[2] The condition number is large, 4.09e+06. This might indicate that there are\n",
       "strong multicollinearity or other numerical problems.\n",
       "\"\"\""
      ]
     },
     "execution_count": 33,
     "metadata": {},
     "output_type": "execute_result"
    }
   ],
   "source": [
    "formula = 'price ~ bedrooms + bathrooms + sqft_living + sqft_lot + floors + waterfront + view + condition + grade + sqft_above + sqft_basement + yr_built + yr_renovated'\n",
    "model = ols(formula=formula, data=df).fit()\n",
    "model.summary()"
   ]
  },
  {
   "cell_type": "code",
   "execution_count": 34,
   "metadata": {},
   "outputs": [
    {
     "data": {
      "text/html": [
       "<table class=\"simpletable\">\n",
       "<caption>OLS Regression Results</caption>\n",
       "<tr>\n",
       "  <th>Dep. Variable:</th>          <td>price</td>      <th>  R-squared:         </th>  <td>   0.605</td>  \n",
       "</tr>\n",
       "<tr>\n",
       "  <th>Model:</th>                   <td>OLS</td>       <th>  Adj. R-squared:    </th>  <td>   0.605</td>  \n",
       "</tr>\n",
       "<tr>\n",
       "  <th>Method:</th>             <td>Least Squares</td>  <th>  F-statistic:       </th>  <td>   2999.</td>  \n",
       "</tr>\n",
       "<tr>\n",
       "  <th>Date:</th>             <td>Fri, 19 Nov 2021</td> <th>  Prob (F-statistic):</th>   <td>  0.00</td>   \n",
       "</tr>\n",
       "<tr>\n",
       "  <th>Time:</th>                 <td>08:17:48</td>     <th>  Log-Likelihood:    </th> <td>-2.9641e+05</td>\n",
       "</tr>\n",
       "<tr>\n",
       "  <th>No. Observations:</th>      <td> 21534</td>      <th>  AIC:               </th>  <td>5.928e+05</td> \n",
       "</tr>\n",
       "<tr>\n",
       "  <th>Df Residuals:</th>          <td> 21522</td>      <th>  BIC:               </th>  <td>5.929e+05</td> \n",
       "</tr>\n",
       "<tr>\n",
       "  <th>Df Model:</th>              <td>    11</td>      <th>                     </th>      <td> </td>     \n",
       "</tr>\n",
       "<tr>\n",
       "  <th>Covariance Type:</th>      <td>nonrobust</td>    <th>                     </th>      <td> </td>     \n",
       "</tr>\n",
       "</table>\n",
       "<table class=\"simpletable\">\n",
       "<tr>\n",
       "        <td></td>           <th>coef</th>     <th>std err</th>      <th>t</th>      <th>P>|t|</th>  <th>[0.025</th>    <th>0.975]</th>  \n",
       "</tr>\n",
       "<tr>\n",
       "  <th>Intercept</th>     <td>-3.348e+05</td> <td> 1.15e+04</td> <td>  -29.178</td> <td> 0.000</td> <td>-3.57e+05</td> <td>-3.12e+05</td>\n",
       "</tr>\n",
       "<tr>\n",
       "  <th>bedrooms</th>      <td> -3.41e+04</td> <td> 2165.068</td> <td>  -15.751</td> <td> 0.000</td> <td>-3.83e+04</td> <td>-2.99e+04</td>\n",
       "</tr>\n",
       "<tr>\n",
       "  <th>bathrooms</th>     <td>-1.512e+04</td> <td> 3495.309</td> <td>   -4.325</td> <td> 0.000</td> <td> -2.2e+04</td> <td>-8264.962</td>\n",
       "</tr>\n",
       "<tr>\n",
       "  <th>sqft_living</th>   <td>  164.5602</td> <td>   20.620</td> <td>    7.981</td> <td> 0.000</td> <td>  124.144</td> <td>  204.977</td>\n",
       "</tr>\n",
       "<tr>\n",
       "  <th>sqft_lot</th>      <td>   -0.3218</td> <td>    0.039</td> <td>   -8.246</td> <td> 0.000</td> <td>   -0.398</td> <td>   -0.245</td>\n",
       "</tr>\n",
       "<tr>\n",
       "  <th>floors</th>        <td>-2233.0830</td> <td> 3943.315</td> <td>   -0.566</td> <td> 0.571</td> <td>-9962.273</td> <td> 5496.107</td>\n",
       "</tr>\n",
       "<tr>\n",
       "  <th>waterfront</th>    <td> 5.921e+05</td> <td> 2.08e+04</td> <td>   28.492</td> <td> 0.000</td> <td> 5.51e+05</td> <td> 6.33e+05</td>\n",
       "</tr>\n",
       "<tr>\n",
       "  <th>view</th>          <td>  6.27e+04</td> <td> 2361.459</td> <td>   26.551</td> <td> 0.000</td> <td> 5.81e+04</td> <td> 6.73e+04</td>\n",
       "</tr>\n",
       "<tr>\n",
       "  <th>condition</th>     <td> 5.384e+04</td> <td> 2531.261</td> <td>   21.270</td> <td> 0.000</td> <td> 4.89e+04</td> <td> 5.88e+04</td>\n",
       "</tr>\n",
       "<tr>\n",
       "  <th>grade</th>         <td> 1.039e+05</td> <td> 2273.387</td> <td>   45.686</td> <td> 0.000</td> <td> 9.94e+04</td> <td> 1.08e+05</td>\n",
       "</tr>\n",
       "<tr>\n",
       "  <th>sqft_above</th>    <td>   22.8288</td> <td>   20.575</td> <td>    1.110</td> <td> 0.267</td> <td>  -17.501</td> <td>   63.158</td>\n",
       "</tr>\n",
       "<tr>\n",
       "  <th>sqft_basement</th> <td>   52.1551</td> <td>   20.466</td> <td>    2.548</td> <td> 0.011</td> <td>   12.041</td> <td>   92.270</td>\n",
       "</tr>\n",
       "</table>\n",
       "<table class=\"simpletable\">\n",
       "<tr>\n",
       "  <th>Omnibus:</th>       <td>15503.073</td> <th>  Durbin-Watson:     </th>  <td>   1.981</td> \n",
       "</tr>\n",
       "<tr>\n",
       "  <th>Prob(Omnibus):</th>  <td> 0.000</td>   <th>  Jarque-Bera (JB):  </th> <td>901846.880</td>\n",
       "</tr>\n",
       "<tr>\n",
       "  <th>Skew:</th>           <td> 2.878</td>   <th>  Prob(JB):          </th>  <td>    0.00</td> \n",
       "</tr>\n",
       "<tr>\n",
       "  <th>Kurtosis:</th>       <td>34.177</td>   <th>  Cond. No.          </th>  <td>5.85e+05</td> \n",
       "</tr>\n",
       "</table><br/><br/>Notes:<br/>[1] Standard Errors assume that the covariance matrix of the errors is correctly specified.<br/>[2] The condition number is large, 5.85e+05. This might indicate that there are<br/>strong multicollinearity or other numerical problems."
      ],
      "text/plain": [
       "<class 'statsmodels.iolib.summary.Summary'>\n",
       "\"\"\"\n",
       "                            OLS Regression Results                            \n",
       "==============================================================================\n",
       "Dep. Variable:                  price   R-squared:                       0.605\n",
       "Model:                            OLS   Adj. R-squared:                  0.605\n",
       "Method:                 Least Squares   F-statistic:                     2999.\n",
       "Date:                Fri, 19 Nov 2021   Prob (F-statistic):               0.00\n",
       "Time:                        08:17:48   Log-Likelihood:            -2.9641e+05\n",
       "No. Observations:               21534   AIC:                         5.928e+05\n",
       "Df Residuals:                   21522   BIC:                         5.929e+05\n",
       "Df Model:                          11                                         \n",
       "Covariance Type:            nonrobust                                         \n",
       "=================================================================================\n",
       "                    coef    std err          t      P>|t|      [0.025      0.975]\n",
       "---------------------------------------------------------------------------------\n",
       "Intercept     -3.348e+05   1.15e+04    -29.178      0.000   -3.57e+05   -3.12e+05\n",
       "bedrooms       -3.41e+04   2165.068    -15.751      0.000   -3.83e+04   -2.99e+04\n",
       "bathrooms     -1.512e+04   3495.309     -4.325      0.000    -2.2e+04   -8264.962\n",
       "sqft_living     164.5602     20.620      7.981      0.000     124.144     204.977\n",
       "sqft_lot         -0.3218      0.039     -8.246      0.000      -0.398      -0.245\n",
       "floors        -2233.0830   3943.315     -0.566      0.571   -9962.273    5496.107\n",
       "waterfront     5.921e+05   2.08e+04     28.492      0.000    5.51e+05    6.33e+05\n",
       "view            6.27e+04   2361.459     26.551      0.000    5.81e+04    6.73e+04\n",
       "condition      5.384e+04   2531.261     21.270      0.000    4.89e+04    5.88e+04\n",
       "grade          1.039e+05   2273.387     45.686      0.000    9.94e+04    1.08e+05\n",
       "sqft_above       22.8288     20.575      1.110      0.267     -17.501      63.158\n",
       "sqft_basement    52.1551     20.466      2.548      0.011      12.041      92.270\n",
       "==============================================================================\n",
       "Omnibus:                    15503.073   Durbin-Watson:                   1.981\n",
       "Prob(Omnibus):                  0.000   Jarque-Bera (JB):           901846.880\n",
       "Skew:                           2.878   Prob(JB):                         0.00\n",
       "Kurtosis:                      34.177   Cond. No.                     5.85e+05\n",
       "==============================================================================\n",
       "\n",
       "Notes:\n",
       "[1] Standard Errors assume that the covariance matrix of the errors is correctly specified.\n",
       "[2] The condition number is large, 5.85e+05. This might indicate that there are\n",
       "strong multicollinearity or other numerical problems.\n",
       "\"\"\""
      ]
     },
     "execution_count": 34,
     "metadata": {},
     "output_type": "execute_result"
    }
   ],
   "source": [
    "formula = 'price ~ bedrooms + bathrooms + sqft_living + sqft_lot + floors + waterfront + view + condition + grade + sqft_above + sqft_basement'\n",
    "model = ols(formula=formula, data=df).fit()\n",
    "model.summary()"
   ]
  },
  {
   "cell_type": "code",
   "execution_count": 35,
   "metadata": {
    "scrolled": true
   },
   "outputs": [
    {
     "data": {
      "text/html": [
       "<table class=\"simpletable\">\n",
       "<caption>OLS Regression Results</caption>\n",
       "<tr>\n",
       "  <th>Dep. Variable:</th>          <td>price</td>      <th>  R-squared:         </th>  <td>   0.492</td>  \n",
       "</tr>\n",
       "<tr>\n",
       "  <th>Model:</th>                   <td>OLS</td>       <th>  Adj. R-squared:    </th>  <td>   0.492</td>  \n",
       "</tr>\n",
       "<tr>\n",
       "  <th>Method:</th>             <td>Least Squares</td>  <th>  F-statistic:       </th>  <td>2.087e+04</td> \n",
       "</tr>\n",
       "<tr>\n",
       "  <th>Date:</th>             <td>Fri, 19 Nov 2021</td> <th>  Prob (F-statistic):</th>   <td>  0.00</td>   \n",
       "</tr>\n",
       "<tr>\n",
       "  <th>Time:</th>                 <td>08:17:49</td>     <th>  Log-Likelihood:    </th> <td>-2.9912e+05</td>\n",
       "</tr>\n",
       "<tr>\n",
       "  <th>No. Observations:</th>      <td> 21534</td>      <th>  AIC:               </th>  <td>5.982e+05</td> \n",
       "</tr>\n",
       "<tr>\n",
       "  <th>Df Residuals:</th>          <td> 21532</td>      <th>  BIC:               </th>  <td>5.983e+05</td> \n",
       "</tr>\n",
       "<tr>\n",
       "  <th>Df Model:</th>              <td>     1</td>      <th>                     </th>      <td> </td>     \n",
       "</tr>\n",
       "<tr>\n",
       "  <th>Covariance Type:</th>      <td>nonrobust</td>    <th>                     </th>      <td> </td>     \n",
       "</tr>\n",
       "</table>\n",
       "<table class=\"simpletable\">\n",
       "<tr>\n",
       "       <td></td>          <th>coef</th>     <th>std err</th>      <th>t</th>      <th>P>|t|</th>  <th>[0.025</th>    <th>0.975]</th>  \n",
       "</tr>\n",
       "<tr>\n",
       "  <th>Intercept</th>   <td>-4.215e+04</td> <td> 4404.521</td> <td>   -9.570</td> <td> 0.000</td> <td>-5.08e+04</td> <td>-3.35e+04</td>\n",
       "</tr>\n",
       "<tr>\n",
       "  <th>sqft_living</th> <td>  279.9321</td> <td>    1.938</td> <td>  144.473</td> <td> 0.000</td> <td>  276.134</td> <td>  283.730</td>\n",
       "</tr>\n",
       "</table>\n",
       "<table class=\"simpletable\">\n",
       "<tr>\n",
       "  <th>Omnibus:</th>       <td>14582.265</td> <th>  Durbin-Watson:     </th>  <td>   1.981</td> \n",
       "</tr>\n",
       "<tr>\n",
       "  <th>Prob(Omnibus):</th>  <td> 0.000</td>   <th>  Jarque-Bera (JB):  </th> <td>516142.289</td>\n",
       "</tr>\n",
       "<tr>\n",
       "  <th>Skew:</th>           <td> 2.781</td>   <th>  Prob(JB):          </th>  <td>    0.00</td> \n",
       "</tr>\n",
       "<tr>\n",
       "  <th>Kurtosis:</th>       <td>26.331</td>   <th>  Cond. No.          </th>  <td>5.63e+03</td> \n",
       "</tr>\n",
       "</table><br/><br/>Notes:<br/>[1] Standard Errors assume that the covariance matrix of the errors is correctly specified.<br/>[2] The condition number is large, 5.63e+03. This might indicate that there are<br/>strong multicollinearity or other numerical problems."
      ],
      "text/plain": [
       "<class 'statsmodels.iolib.summary.Summary'>\n",
       "\"\"\"\n",
       "                            OLS Regression Results                            \n",
       "==============================================================================\n",
       "Dep. Variable:                  price   R-squared:                       0.492\n",
       "Model:                            OLS   Adj. R-squared:                  0.492\n",
       "Method:                 Least Squares   F-statistic:                 2.087e+04\n",
       "Date:                Fri, 19 Nov 2021   Prob (F-statistic):               0.00\n",
       "Time:                        08:17:49   Log-Likelihood:            -2.9912e+05\n",
       "No. Observations:               21534   AIC:                         5.982e+05\n",
       "Df Residuals:                   21532   BIC:                         5.983e+05\n",
       "Df Model:                           1                                         \n",
       "Covariance Type:            nonrobust                                         \n",
       "===============================================================================\n",
       "                  coef    std err          t      P>|t|      [0.025      0.975]\n",
       "-------------------------------------------------------------------------------\n",
       "Intercept   -4.215e+04   4404.521     -9.570      0.000   -5.08e+04   -3.35e+04\n",
       "sqft_living   279.9321      1.938    144.473      0.000     276.134     283.730\n",
       "==============================================================================\n",
       "Omnibus:                    14582.265   Durbin-Watson:                   1.981\n",
       "Prob(Omnibus):                  0.000   Jarque-Bera (JB):           516142.289\n",
       "Skew:                           2.781   Prob(JB):                         0.00\n",
       "Kurtosis:                      26.331   Cond. No.                     5.63e+03\n",
       "==============================================================================\n",
       "\n",
       "Notes:\n",
       "[1] Standard Errors assume that the covariance matrix of the errors is correctly specified.\n",
       "[2] The condition number is large, 5.63e+03. This might indicate that there are\n",
       "strong multicollinearity or other numerical problems.\n",
       "\"\"\""
      ]
     },
     "execution_count": 35,
     "metadata": {},
     "output_type": "execute_result"
    }
   ],
   "source": [
    "formula = 'price ~ sqft_living'\n",
    "\n",
    "liv_mod = ols(formula=formula, data=df).fit()\n",
    "liv_mod_sum = liv_mod.summary()\n",
    "\n",
    "liv_mod_sum"
   ]
  },
  {
   "cell_type": "code",
   "execution_count": 36,
   "metadata": {
    "scrolled": true
   },
   "outputs": [
    {
     "data": {
      "text/html": [
       "<table class=\"simpletable\">\n",
       "<caption>OLS Regression Results</caption>\n",
       "<tr>\n",
       "  <th>Dep. Variable:</th>          <td>price</td>      <th>  R-squared:         </th>  <td>   0.095</td>  \n",
       "</tr>\n",
       "<tr>\n",
       "  <th>Model:</th>                   <td>OLS</td>       <th>  Adj. R-squared:    </th>  <td>   0.095</td>  \n",
       "</tr>\n",
       "<tr>\n",
       "  <th>Method:</th>             <td>Least Squares</td>  <th>  F-statistic:       </th>  <td>   2258.</td>  \n",
       "</tr>\n",
       "<tr>\n",
       "  <th>Date:</th>             <td>Fri, 19 Nov 2021</td> <th>  Prob (F-statistic):</th>   <td>  0.00</td>   \n",
       "</tr>\n",
       "<tr>\n",
       "  <th>Time:</th>                 <td>08:17:49</td>     <th>  Log-Likelihood:    </th> <td>-3.0534e+05</td>\n",
       "</tr>\n",
       "<tr>\n",
       "  <th>No. Observations:</th>      <td> 21534</td>      <th>  AIC:               </th>  <td>6.107e+05</td> \n",
       "</tr>\n",
       "<tr>\n",
       "  <th>Df Residuals:</th>          <td> 21532</td>      <th>  BIC:               </th>  <td>6.107e+05</td> \n",
       "</tr>\n",
       "<tr>\n",
       "  <th>Df Model:</th>              <td>     1</td>      <th>                     </th>      <td> </td>     \n",
       "</tr>\n",
       "<tr>\n",
       "  <th>Covariance Type:</th>      <td>nonrobust</td>    <th>                     </th>      <td> </td>     \n",
       "</tr>\n",
       "</table>\n",
       "<table class=\"simpletable\">\n",
       "<tr>\n",
       "      <td></td>         <th>coef</th>     <th>std err</th>      <th>t</th>      <th>P>|t|</th>  <th>[0.025</th>    <th>0.975]</th>  \n",
       "</tr>\n",
       "<tr>\n",
       "  <th>Intercept</th> <td> 1.295e+05</td> <td> 8961.202</td> <td>   14.448</td> <td> 0.000</td> <td> 1.12e+05</td> <td> 1.47e+05</td>\n",
       "</tr>\n",
       "<tr>\n",
       "  <th>bedrooms</th>  <td> 1.217e+05</td> <td> 2561.852</td> <td>   47.515</td> <td> 0.000</td> <td> 1.17e+05</td> <td> 1.27e+05</td>\n",
       "</tr>\n",
       "</table>\n",
       "<table class=\"simpletable\">\n",
       "<tr>\n",
       "  <th>Omnibus:</th>       <td>18629.753</td> <th>  Durbin-Watson:     </th>  <td>   1.961</td>  \n",
       "</tr>\n",
       "<tr>\n",
       "  <th>Prob(Omnibus):</th>  <td> 0.000</td>   <th>  Jarque-Bera (JB):  </th> <td>1154426.555</td>\n",
       "</tr>\n",
       "<tr>\n",
       "  <th>Skew:</th>           <td> 3.858</td>   <th>  Prob(JB):          </th>  <td>    0.00</td>  \n",
       "</tr>\n",
       "<tr>\n",
       "  <th>Kurtosis:</th>       <td>38.030</td>   <th>  Cond. No.          </th>  <td>    14.2</td>  \n",
       "</tr>\n",
       "</table><br/><br/>Notes:<br/>[1] Standard Errors assume that the covariance matrix of the errors is correctly specified."
      ],
      "text/plain": [
       "<class 'statsmodels.iolib.summary.Summary'>\n",
       "\"\"\"\n",
       "                            OLS Regression Results                            \n",
       "==============================================================================\n",
       "Dep. Variable:                  price   R-squared:                       0.095\n",
       "Model:                            OLS   Adj. R-squared:                  0.095\n",
       "Method:                 Least Squares   F-statistic:                     2258.\n",
       "Date:                Fri, 19 Nov 2021   Prob (F-statistic):               0.00\n",
       "Time:                        08:17:49   Log-Likelihood:            -3.0534e+05\n",
       "No. Observations:               21534   AIC:                         6.107e+05\n",
       "Df Residuals:                   21532   BIC:                         6.107e+05\n",
       "Df Model:                           1                                         \n",
       "Covariance Type:            nonrobust                                         \n",
       "==============================================================================\n",
       "                 coef    std err          t      P>|t|      [0.025      0.975]\n",
       "------------------------------------------------------------------------------\n",
       "Intercept   1.295e+05   8961.202     14.448      0.000    1.12e+05    1.47e+05\n",
       "bedrooms    1.217e+05   2561.852     47.515      0.000    1.17e+05    1.27e+05\n",
       "==============================================================================\n",
       "Omnibus:                    18629.753   Durbin-Watson:                   1.961\n",
       "Prob(Omnibus):                  0.000   Jarque-Bera (JB):          1154426.555\n",
       "Skew:                           3.858   Prob(JB):                         0.00\n",
       "Kurtosis:                      38.030   Cond. No.                         14.2\n",
       "==============================================================================\n",
       "\n",
       "Notes:\n",
       "[1] Standard Errors assume that the covariance matrix of the errors is correctly specified.\n",
       "\"\"\""
      ]
     },
     "execution_count": 36,
     "metadata": {},
     "output_type": "execute_result"
    }
   ],
   "source": [
    "formula1 = 'price ~ bedrooms'\n",
    "\n",
    "bed_mod = ols(formula=formula1, data=df).fit()\n",
    "bed_mod_sum = bed_mod.summary()\n",
    "\n",
    "bed_mod_sum"
   ]
  },
  {
   "cell_type": "code",
   "execution_count": 37,
   "metadata": {
    "scrolled": true
   },
   "outputs": [
    {
     "data": {
      "text/html": [
       "<table class=\"simpletable\">\n",
       "<caption>OLS Regression Results</caption>\n",
       "<tr>\n",
       "  <th>Dep. Variable:</th>          <td>price</td>      <th>  R-squared:         </th>  <td>   0.276</td>  \n",
       "</tr>\n",
       "<tr>\n",
       "  <th>Model:</th>                   <td>OLS</td>       <th>  Adj. R-squared:    </th>  <td>   0.276</td>  \n",
       "</tr>\n",
       "<tr>\n",
       "  <th>Method:</th>             <td>Least Squares</td>  <th>  F-statistic:       </th>  <td>   8195.</td>  \n",
       "</tr>\n",
       "<tr>\n",
       "  <th>Date:</th>             <td>Fri, 19 Nov 2021</td> <th>  Prob (F-statistic):</th>   <td>  0.00</td>   \n",
       "</tr>\n",
       "<tr>\n",
       "  <th>Time:</th>                 <td>08:17:49</td>     <th>  Log-Likelihood:    </th> <td>-3.0294e+05</td>\n",
       "</tr>\n",
       "<tr>\n",
       "  <th>No. Observations:</th>      <td> 21534</td>      <th>  AIC:               </th>  <td>6.059e+05</td> \n",
       "</tr>\n",
       "<tr>\n",
       "  <th>Df Residuals:</th>          <td> 21532</td>      <th>  BIC:               </th>  <td>6.059e+05</td> \n",
       "</tr>\n",
       "<tr>\n",
       "  <th>Df Model:</th>              <td>     1</td>      <th>                     </th>      <td> </td>     \n",
       "</tr>\n",
       "<tr>\n",
       "  <th>Covariance Type:</th>      <td>nonrobust</td>    <th>                     </th>      <td> </td>     \n",
       "</tr>\n",
       "</table>\n",
       "<table class=\"simpletable\">\n",
       "<tr>\n",
       "      <td></td>         <th>coef</th>     <th>std err</th>      <th>t</th>      <th>P>|t|</th>  <th>[0.025</th>    <th>0.975]</th>  \n",
       "</tr>\n",
       "<tr>\n",
       "  <th>Intercept</th> <td> 1.099e+04</td> <td> 6217.943</td> <td>    1.768</td> <td> 0.077</td> <td>-1195.842</td> <td> 2.32e+04</td>\n",
       "</tr>\n",
       "<tr>\n",
       "  <th>bathrooms</th> <td> 2.501e+05</td> <td> 2762.313</td> <td>   90.527</td> <td> 0.000</td> <td> 2.45e+05</td> <td> 2.55e+05</td>\n",
       "</tr>\n",
       "</table>\n",
       "<table class=\"simpletable\">\n",
       "<tr>\n",
       "  <th>Omnibus:</th>       <td>17084.255</td> <th>  Durbin-Watson:     </th>  <td>   1.959</td> \n",
       "</tr>\n",
       "<tr>\n",
       "  <th>Prob(Omnibus):</th>  <td> 0.000</td>   <th>  Jarque-Bera (JB):  </th> <td>857836.558</td>\n",
       "</tr>\n",
       "<tr>\n",
       "  <th>Skew:</th>           <td> 3.421</td>   <th>  Prob(JB):          </th>  <td>    0.00</td> \n",
       "</tr>\n",
       "<tr>\n",
       "  <th>Kurtosis:</th>       <td>33.154</td>   <th>  Cond. No.          </th>  <td>    7.76</td> \n",
       "</tr>\n",
       "</table><br/><br/>Notes:<br/>[1] Standard Errors assume that the covariance matrix of the errors is correctly specified."
      ],
      "text/plain": [
       "<class 'statsmodels.iolib.summary.Summary'>\n",
       "\"\"\"\n",
       "                            OLS Regression Results                            \n",
       "==============================================================================\n",
       "Dep. Variable:                  price   R-squared:                       0.276\n",
       "Model:                            OLS   Adj. R-squared:                  0.276\n",
       "Method:                 Least Squares   F-statistic:                     8195.\n",
       "Date:                Fri, 19 Nov 2021   Prob (F-statistic):               0.00\n",
       "Time:                        08:17:49   Log-Likelihood:            -3.0294e+05\n",
       "No. Observations:               21534   AIC:                         6.059e+05\n",
       "Df Residuals:                   21532   BIC:                         6.059e+05\n",
       "Df Model:                           1                                         \n",
       "Covariance Type:            nonrobust                                         \n",
       "==============================================================================\n",
       "                 coef    std err          t      P>|t|      [0.025      0.975]\n",
       "------------------------------------------------------------------------------\n",
       "Intercept   1.099e+04   6217.943      1.768      0.077   -1195.842    2.32e+04\n",
       "bathrooms   2.501e+05   2762.313     90.527      0.000    2.45e+05    2.55e+05\n",
       "==============================================================================\n",
       "Omnibus:                    17084.255   Durbin-Watson:                   1.959\n",
       "Prob(Omnibus):                  0.000   Jarque-Bera (JB):           857836.558\n",
       "Skew:                           3.421   Prob(JB):                         0.00\n",
       "Kurtosis:                      33.154   Cond. No.                         7.76\n",
       "==============================================================================\n",
       "\n",
       "Notes:\n",
       "[1] Standard Errors assume that the covariance matrix of the errors is correctly specified.\n",
       "\"\"\""
      ]
     },
     "execution_count": 37,
     "metadata": {},
     "output_type": "execute_result"
    }
   ],
   "source": [
    "formula2 = 'price ~ bathrooms'\n",
    "\n",
    "bath_mod = ols(formula=formula2, data=df).fit()\n",
    "bath_mod_sum = bath_mod.summary()\n",
    "\n",
    "bath_mod_sum"
   ]
  },
  {
   "cell_type": "code",
   "execution_count": 38,
   "metadata": {},
   "outputs": [
    {
     "data": {
      "text/plain": [
       "Index(['id', 'date', 'price', 'bedrooms', 'bathrooms', 'sqft_living',\n",
       "       'sqft_lot', 'floors', 'waterfront', 'view', 'condition', 'grade',\n",
       "       'sqft_above', 'sqft_basement', 'yr_built', 'yr_renovated', 'zipcode',\n",
       "       'lat', 'long', 'sqft_living15', 'sqft_lot15'],\n",
       "      dtype='object')"
      ]
     },
     "execution_count": 38,
     "metadata": {},
     "output_type": "execute_result"
    }
   ],
   "source": [
    "df.columns"
   ]
  },
  {
   "cell_type": "code",
   "execution_count": 39,
   "metadata": {
    "scrolled": true
   },
   "outputs": [
    {
     "data": {
      "text/html": [
       "<div>\n",
       "<style scoped>\n",
       "    .dataframe tbody tr th:only-of-type {\n",
       "        vertical-align: middle;\n",
       "    }\n",
       "\n",
       "    .dataframe tbody tr th {\n",
       "        vertical-align: top;\n",
       "    }\n",
       "\n",
       "    .dataframe thead th {\n",
       "        text-align: right;\n",
       "    }\n",
       "</style>\n",
       "<table border=\"1\" class=\"dataframe\">\n",
       "  <thead>\n",
       "    <tr style=\"text-align: right;\">\n",
       "      <th></th>\n",
       "      <th>id</th>\n",
       "      <th>date</th>\n",
       "      <th>price</th>\n",
       "      <th>bedrooms</th>\n",
       "      <th>bathrooms</th>\n",
       "      <th>sqft_living</th>\n",
       "      <th>sqft_lot</th>\n",
       "      <th>floors</th>\n",
       "      <th>waterfront</th>\n",
       "      <th>view</th>\n",
       "      <th>...</th>\n",
       "      <th>grade</th>\n",
       "      <th>sqft_above</th>\n",
       "      <th>sqft_basement</th>\n",
       "      <th>yr_built</th>\n",
       "      <th>yr_renovated</th>\n",
       "      <th>zipcode</th>\n",
       "      <th>lat</th>\n",
       "      <th>long</th>\n",
       "      <th>sqft_living15</th>\n",
       "      <th>sqft_lot15</th>\n",
       "    </tr>\n",
       "  </thead>\n",
       "  <tbody>\n",
       "    <tr>\n",
       "      <th>0</th>\n",
       "      <td>7129300520</td>\n",
       "      <td>10/13/2014</td>\n",
       "      <td>221900.0</td>\n",
       "      <td>3</td>\n",
       "      <td>1.00</td>\n",
       "      <td>1180</td>\n",
       "      <td>5650</td>\n",
       "      <td>1.0</td>\n",
       "      <td>0.0</td>\n",
       "      <td>0.0</td>\n",
       "      <td>...</td>\n",
       "      <td>4</td>\n",
       "      <td>1180</td>\n",
       "      <td>0.0</td>\n",
       "      <td>1955</td>\n",
       "      <td>0.0</td>\n",
       "      <td>98178</td>\n",
       "      <td>47.5112</td>\n",
       "      <td>-122.257</td>\n",
       "      <td>1340</td>\n",
       "      <td>5650</td>\n",
       "    </tr>\n",
       "    <tr>\n",
       "      <th>1</th>\n",
       "      <td>6414100192</td>\n",
       "      <td>12/9/2014</td>\n",
       "      <td>538000.0</td>\n",
       "      <td>3</td>\n",
       "      <td>2.25</td>\n",
       "      <td>2570</td>\n",
       "      <td>7242</td>\n",
       "      <td>2.0</td>\n",
       "      <td>0.0</td>\n",
       "      <td>0.0</td>\n",
       "      <td>...</td>\n",
       "      <td>4</td>\n",
       "      <td>2170</td>\n",
       "      <td>400.0</td>\n",
       "      <td>1951</td>\n",
       "      <td>1991.0</td>\n",
       "      <td>98125</td>\n",
       "      <td>47.7210</td>\n",
       "      <td>-122.319</td>\n",
       "      <td>1690</td>\n",
       "      <td>7639</td>\n",
       "    </tr>\n",
       "    <tr>\n",
       "      <th>2</th>\n",
       "      <td>5631500400</td>\n",
       "      <td>2/25/2015</td>\n",
       "      <td>180000.0</td>\n",
       "      <td>2</td>\n",
       "      <td>1.00</td>\n",
       "      <td>770</td>\n",
       "      <td>10000</td>\n",
       "      <td>1.0</td>\n",
       "      <td>0.0</td>\n",
       "      <td>0.0</td>\n",
       "      <td>...</td>\n",
       "      <td>3</td>\n",
       "      <td>770</td>\n",
       "      <td>0.0</td>\n",
       "      <td>1933</td>\n",
       "      <td>0.0</td>\n",
       "      <td>98028</td>\n",
       "      <td>47.7379</td>\n",
       "      <td>-122.233</td>\n",
       "      <td>2720</td>\n",
       "      <td>8062</td>\n",
       "    </tr>\n",
       "    <tr>\n",
       "      <th>3</th>\n",
       "      <td>2487200875</td>\n",
       "      <td>12/9/2014</td>\n",
       "      <td>604000.0</td>\n",
       "      <td>4</td>\n",
       "      <td>3.00</td>\n",
       "      <td>1960</td>\n",
       "      <td>5000</td>\n",
       "      <td>1.0</td>\n",
       "      <td>0.0</td>\n",
       "      <td>0.0</td>\n",
       "      <td>...</td>\n",
       "      <td>4</td>\n",
       "      <td>1050</td>\n",
       "      <td>910.0</td>\n",
       "      <td>1965</td>\n",
       "      <td>0.0</td>\n",
       "      <td>98136</td>\n",
       "      <td>47.5208</td>\n",
       "      <td>-122.393</td>\n",
       "      <td>1360</td>\n",
       "      <td>5000</td>\n",
       "    </tr>\n",
       "    <tr>\n",
       "      <th>4</th>\n",
       "      <td>1954400510</td>\n",
       "      <td>2/18/2015</td>\n",
       "      <td>510000.0</td>\n",
       "      <td>3</td>\n",
       "      <td>2.00</td>\n",
       "      <td>1680</td>\n",
       "      <td>8080</td>\n",
       "      <td>1.0</td>\n",
       "      <td>0.0</td>\n",
       "      <td>0.0</td>\n",
       "      <td>...</td>\n",
       "      <td>5</td>\n",
       "      <td>1680</td>\n",
       "      <td>0.0</td>\n",
       "      <td>1987</td>\n",
       "      <td>0.0</td>\n",
       "      <td>98074</td>\n",
       "      <td>47.6168</td>\n",
       "      <td>-122.045</td>\n",
       "      <td>1800</td>\n",
       "      <td>7503</td>\n",
       "    </tr>\n",
       "  </tbody>\n",
       "</table>\n",
       "<p>5 rows × 21 columns</p>\n",
       "</div>"
      ],
      "text/plain": [
       "           id        date     price  bedrooms  bathrooms  sqft_living  \\\n",
       "0  7129300520  10/13/2014  221900.0         3       1.00         1180   \n",
       "1  6414100192   12/9/2014  538000.0         3       2.25         2570   \n",
       "2  5631500400   2/25/2015  180000.0         2       1.00          770   \n",
       "3  2487200875   12/9/2014  604000.0         4       3.00         1960   \n",
       "4  1954400510   2/18/2015  510000.0         3       2.00         1680   \n",
       "\n",
       "   sqft_lot  floors  waterfront  view  ...  grade  sqft_above  sqft_basement  \\\n",
       "0      5650     1.0         0.0   0.0  ...      4        1180            0.0   \n",
       "1      7242     2.0         0.0   0.0  ...      4        2170          400.0   \n",
       "2     10000     1.0         0.0   0.0  ...      3         770            0.0   \n",
       "3      5000     1.0         0.0   0.0  ...      4        1050          910.0   \n",
       "4      8080     1.0         0.0   0.0  ...      5        1680            0.0   \n",
       "\n",
       "   yr_built  yr_renovated  zipcode      lat     long  sqft_living15  \\\n",
       "0      1955           0.0    98178  47.5112 -122.257           1340   \n",
       "1      1951        1991.0    98125  47.7210 -122.319           1690   \n",
       "2      1933           0.0    98028  47.7379 -122.233           2720   \n",
       "3      1965           0.0    98136  47.5208 -122.393           1360   \n",
       "4      1987           0.0    98074  47.6168 -122.045           1800   \n",
       "\n",
       "   sqft_lot15  \n",
       "0        5650  \n",
       "1        7639  \n",
       "2        8062  \n",
       "3        5000  \n",
       "4        7503  \n",
       "\n",
       "[5 rows x 21 columns]"
      ]
     },
     "execution_count": 39,
     "metadata": {},
     "output_type": "execute_result"
    }
   ],
   "source": [
    "df.head()"
   ]
  },
  {
   "cell_type": "code",
   "execution_count": 40,
   "metadata": {
    "scrolled": false
   },
   "outputs": [
    {
     "data": {
      "text/html": [
       "<table class=\"simpletable\">\n",
       "<caption>OLS Regression Results</caption>\n",
       "<tr>\n",
       "  <th>Dep. Variable:</th>          <td>price</td>      <th>  R-squared:         </th>  <td>   0.605</td>  \n",
       "</tr>\n",
       "<tr>\n",
       "  <th>Model:</th>                   <td>OLS</td>       <th>  Adj. R-squared:    </th>  <td>   0.605</td>  \n",
       "</tr>\n",
       "<tr>\n",
       "  <th>Method:</th>             <td>Least Squares</td>  <th>  F-statistic:       </th>  <td>   2999.</td>  \n",
       "</tr>\n",
       "<tr>\n",
       "  <th>Date:</th>             <td>Fri, 19 Nov 2021</td> <th>  Prob (F-statistic):</th>   <td>  0.00</td>   \n",
       "</tr>\n",
       "<tr>\n",
       "  <th>Time:</th>                 <td>08:17:49</td>     <th>  Log-Likelihood:    </th> <td>-2.9641e+05</td>\n",
       "</tr>\n",
       "<tr>\n",
       "  <th>No. Observations:</th>      <td> 21534</td>      <th>  AIC:               </th>  <td>5.928e+05</td> \n",
       "</tr>\n",
       "<tr>\n",
       "  <th>Df Residuals:</th>          <td> 21522</td>      <th>  BIC:               </th>  <td>5.929e+05</td> \n",
       "</tr>\n",
       "<tr>\n",
       "  <th>Df Model:</th>              <td>    11</td>      <th>                     </th>      <td> </td>     \n",
       "</tr>\n",
       "<tr>\n",
       "  <th>Covariance Type:</th>      <td>nonrobust</td>    <th>                     </th>      <td> </td>     \n",
       "</tr>\n",
       "</table>\n",
       "<table class=\"simpletable\">\n",
       "<tr>\n",
       "        <td></td>           <th>coef</th>     <th>std err</th>      <th>t</th>      <th>P>|t|</th>  <th>[0.025</th>    <th>0.975]</th>  \n",
       "</tr>\n",
       "<tr>\n",
       "  <th>Intercept</th>     <td>-3.348e+05</td> <td> 1.15e+04</td> <td>  -29.178</td> <td> 0.000</td> <td>-3.57e+05</td> <td>-3.12e+05</td>\n",
       "</tr>\n",
       "<tr>\n",
       "  <th>bedrooms</th>      <td> -3.41e+04</td> <td> 2165.068</td> <td>  -15.751</td> <td> 0.000</td> <td>-3.83e+04</td> <td>-2.99e+04</td>\n",
       "</tr>\n",
       "<tr>\n",
       "  <th>bathrooms</th>     <td>-1.512e+04</td> <td> 3495.309</td> <td>   -4.325</td> <td> 0.000</td> <td> -2.2e+04</td> <td>-8264.962</td>\n",
       "</tr>\n",
       "<tr>\n",
       "  <th>sqft_living</th>   <td>  164.5602</td> <td>   20.620</td> <td>    7.981</td> <td> 0.000</td> <td>  124.144</td> <td>  204.977</td>\n",
       "</tr>\n",
       "<tr>\n",
       "  <th>sqft_lot</th>      <td>   -0.3218</td> <td>    0.039</td> <td>   -8.246</td> <td> 0.000</td> <td>   -0.398</td> <td>   -0.245</td>\n",
       "</tr>\n",
       "<tr>\n",
       "  <th>floors</th>        <td>-2233.0830</td> <td> 3943.315</td> <td>   -0.566</td> <td> 0.571</td> <td>-9962.273</td> <td> 5496.107</td>\n",
       "</tr>\n",
       "<tr>\n",
       "  <th>waterfront</th>    <td> 5.921e+05</td> <td> 2.08e+04</td> <td>   28.492</td> <td> 0.000</td> <td> 5.51e+05</td> <td> 6.33e+05</td>\n",
       "</tr>\n",
       "<tr>\n",
       "  <th>view</th>          <td>  6.27e+04</td> <td> 2361.459</td> <td>   26.551</td> <td> 0.000</td> <td> 5.81e+04</td> <td> 6.73e+04</td>\n",
       "</tr>\n",
       "<tr>\n",
       "  <th>condition</th>     <td> 5.384e+04</td> <td> 2531.261</td> <td>   21.270</td> <td> 0.000</td> <td> 4.89e+04</td> <td> 5.88e+04</td>\n",
       "</tr>\n",
       "<tr>\n",
       "  <th>grade</th>         <td> 1.039e+05</td> <td> 2273.387</td> <td>   45.686</td> <td> 0.000</td> <td> 9.94e+04</td> <td> 1.08e+05</td>\n",
       "</tr>\n",
       "<tr>\n",
       "  <th>sqft_above</th>    <td>   22.8288</td> <td>   20.575</td> <td>    1.110</td> <td> 0.267</td> <td>  -17.501</td> <td>   63.158</td>\n",
       "</tr>\n",
       "<tr>\n",
       "  <th>sqft_basement</th> <td>   52.1551</td> <td>   20.466</td> <td>    2.548</td> <td> 0.011</td> <td>   12.041</td> <td>   92.270</td>\n",
       "</tr>\n",
       "</table>\n",
       "<table class=\"simpletable\">\n",
       "<tr>\n",
       "  <th>Omnibus:</th>       <td>15503.073</td> <th>  Durbin-Watson:     </th>  <td>   1.981</td> \n",
       "</tr>\n",
       "<tr>\n",
       "  <th>Prob(Omnibus):</th>  <td> 0.000</td>   <th>  Jarque-Bera (JB):  </th> <td>901846.880</td>\n",
       "</tr>\n",
       "<tr>\n",
       "  <th>Skew:</th>           <td> 2.878</td>   <th>  Prob(JB):          </th>  <td>    0.00</td> \n",
       "</tr>\n",
       "<tr>\n",
       "  <th>Kurtosis:</th>       <td>34.177</td>   <th>  Cond. No.          </th>  <td>5.85e+05</td> \n",
       "</tr>\n",
       "</table><br/><br/>Notes:<br/>[1] Standard Errors assume that the covariance matrix of the errors is correctly specified.<br/>[2] The condition number is large, 5.85e+05. This might indicate that there are<br/>strong multicollinearity or other numerical problems."
      ],
      "text/plain": [
       "<class 'statsmodels.iolib.summary.Summary'>\n",
       "\"\"\"\n",
       "                            OLS Regression Results                            \n",
       "==============================================================================\n",
       "Dep. Variable:                  price   R-squared:                       0.605\n",
       "Model:                            OLS   Adj. R-squared:                  0.605\n",
       "Method:                 Least Squares   F-statistic:                     2999.\n",
       "Date:                Fri, 19 Nov 2021   Prob (F-statistic):               0.00\n",
       "Time:                        08:17:49   Log-Likelihood:            -2.9641e+05\n",
       "No. Observations:               21534   AIC:                         5.928e+05\n",
       "Df Residuals:                   21522   BIC:                         5.929e+05\n",
       "Df Model:                          11                                         \n",
       "Covariance Type:            nonrobust                                         \n",
       "=================================================================================\n",
       "                    coef    std err          t      P>|t|      [0.025      0.975]\n",
       "---------------------------------------------------------------------------------\n",
       "Intercept     -3.348e+05   1.15e+04    -29.178      0.000   -3.57e+05   -3.12e+05\n",
       "bedrooms       -3.41e+04   2165.068    -15.751      0.000   -3.83e+04   -2.99e+04\n",
       "bathrooms     -1.512e+04   3495.309     -4.325      0.000    -2.2e+04   -8264.962\n",
       "sqft_living     164.5602     20.620      7.981      0.000     124.144     204.977\n",
       "sqft_lot         -0.3218      0.039     -8.246      0.000      -0.398      -0.245\n",
       "floors        -2233.0830   3943.315     -0.566      0.571   -9962.273    5496.107\n",
       "waterfront     5.921e+05   2.08e+04     28.492      0.000    5.51e+05    6.33e+05\n",
       "view            6.27e+04   2361.459     26.551      0.000    5.81e+04    6.73e+04\n",
       "condition      5.384e+04   2531.261     21.270      0.000    4.89e+04    5.88e+04\n",
       "grade          1.039e+05   2273.387     45.686      0.000    9.94e+04    1.08e+05\n",
       "sqft_above       22.8288     20.575      1.110      0.267     -17.501      63.158\n",
       "sqft_basement    52.1551     20.466      2.548      0.011      12.041      92.270\n",
       "==============================================================================\n",
       "Omnibus:                    15503.073   Durbin-Watson:                   1.981\n",
       "Prob(Omnibus):                  0.000   Jarque-Bera (JB):           901846.880\n",
       "Skew:                           2.878   Prob(JB):                         0.00\n",
       "Kurtosis:                      34.177   Cond. No.                     5.85e+05\n",
       "==============================================================================\n",
       "\n",
       "Notes:\n",
       "[1] Standard Errors assume that the covariance matrix of the errors is correctly specified.\n",
       "[2] The condition number is large, 5.85e+05. This might indicate that there are\n",
       "strong multicollinearity or other numerical problems.\n",
       "\"\"\""
      ]
     },
     "execution_count": 40,
     "metadata": {},
     "output_type": "execute_result"
    }
   ],
   "source": [
    "formula3 = 'price ~ bedrooms+bathrooms+sqft_living+sqft_lot+floors+waterfront+view+condition+grade+sqft_above+sqft_basement'\n",
    "\n",
    "room_mod = ols(formula=formula3, data=df).fit()\n",
    "room_mod_sum = room_mod.summary()\n",
    "\n",
    "room_mod_sum"
   ]
  },
  {
   "cell_type": "code",
   "execution_count": 41,
   "metadata": {},
   "outputs": [
    {
     "data": {
      "text/plain": [
       "Index(['id', 'date', 'price', 'bedrooms', 'bathrooms', 'sqft_living',\n",
       "       'sqft_lot', 'floors', 'waterfront', 'view', 'condition', 'grade',\n",
       "       'sqft_above', 'sqft_basement', 'yr_built', 'yr_renovated', 'zipcode',\n",
       "       'lat', 'long', 'sqft_living15', 'sqft_lot15'],\n",
       "      dtype='object')"
      ]
     },
     "execution_count": 41,
     "metadata": {},
     "output_type": "execute_result"
    }
   ],
   "source": [
    "df.columns"
   ]
  },
  {
   "cell_type": "code",
   "execution_count": 42,
   "metadata": {
    "scrolled": true
   },
   "outputs": [],
   "source": [
    "X = df[['sqft_living','bedrooms','bathrooms','sqft_lot','floors','waterfront', 'view', 'condition', 'grade', 'sqft_above', 'sqft_basement']]\n",
    "y = df['price']\n",
    "X_train, X_test, y_train, y_test = train_test_split(X, y, train_size = 0.7, test_size = 0.3, random_state = 100)"
   ]
  },
  {
   "cell_type": "code",
   "execution_count": 43,
   "metadata": {},
   "outputs": [],
   "source": [
    "X_train_sm = sm.add_constant(X_train)"
   ]
  },
  {
   "cell_type": "code",
   "execution_count": 44,
   "metadata": {},
   "outputs": [
    {
     "data": {
      "text/plain": [
       "const           -338234.480118\n",
       "sqft_living         151.467558\n",
       "bedrooms         -34636.957461\n",
       "bathrooms        -13426.285156\n",
       "sqft_lot             -0.339399\n",
       "floors            -3151.793390\n",
       "waterfront       556239.021454\n",
       "view              64000.974878\n",
       "condition         55064.096706\n",
       "grade            102674.171125\n",
       "sqft_above           39.755366\n",
       "sqft_basement        60.612177\n",
       "dtype: float64"
      ]
     },
     "execution_count": 44,
     "metadata": {},
     "output_type": "execute_result"
    }
   ],
   "source": [
    "lrr = sm.OLS(y_train, X_train_sm).fit()\n",
    "lrr.params"
   ]
  },
  {
   "cell_type": "code",
   "execution_count": 45,
   "metadata": {},
   "outputs": [
    {
     "data": {
      "text/html": [
       "<table class=\"simpletable\">\n",
       "<caption>OLS Regression Results</caption>\n",
       "<tr>\n",
       "  <th>Dep. Variable:</th>          <td>price</td>      <th>  R-squared:         </th>  <td>   0.602</td>  \n",
       "</tr>\n",
       "<tr>\n",
       "  <th>Model:</th>                   <td>OLS</td>       <th>  Adj. R-squared:    </th>  <td>   0.602</td>  \n",
       "</tr>\n",
       "<tr>\n",
       "  <th>Method:</th>             <td>Least Squares</td>  <th>  F-statistic:       </th>  <td>   2070.</td>  \n",
       "</tr>\n",
       "<tr>\n",
       "  <th>Date:</th>             <td>Fri, 19 Nov 2021</td> <th>  Prob (F-statistic):</th>   <td>  0.00</td>   \n",
       "</tr>\n",
       "<tr>\n",
       "  <th>Time:</th>                 <td>08:17:49</td>     <th>  Log-Likelihood:    </th> <td>-2.0753e+05</td>\n",
       "</tr>\n",
       "<tr>\n",
       "  <th>No. Observations:</th>      <td> 15073</td>      <th>  AIC:               </th>  <td>4.151e+05</td> \n",
       "</tr>\n",
       "<tr>\n",
       "  <th>Df Residuals:</th>          <td> 15061</td>      <th>  BIC:               </th>  <td>4.152e+05</td> \n",
       "</tr>\n",
       "<tr>\n",
       "  <th>Df Model:</th>              <td>    11</td>      <th>                     </th>      <td> </td>     \n",
       "</tr>\n",
       "<tr>\n",
       "  <th>Covariance Type:</th>      <td>nonrobust</td>    <th>                     </th>      <td> </td>     \n",
       "</tr>\n",
       "</table>\n",
       "<table class=\"simpletable\">\n",
       "<tr>\n",
       "        <td></td>           <th>coef</th>     <th>std err</th>      <th>t</th>      <th>P>|t|</th>  <th>[0.025</th>    <th>0.975]</th>  \n",
       "</tr>\n",
       "<tr>\n",
       "  <th>const</th>         <td>-3.382e+05</td> <td> 1.37e+04</td> <td>  -24.629</td> <td> 0.000</td> <td>-3.65e+05</td> <td>-3.11e+05</td>\n",
       "</tr>\n",
       "<tr>\n",
       "  <th>sqft_living</th>   <td>  151.4676</td> <td>   26.174</td> <td>    5.787</td> <td> 0.000</td> <td>  100.164</td> <td>  202.771</td>\n",
       "</tr>\n",
       "<tr>\n",
       "  <th>bedrooms</th>      <td>-3.464e+04</td> <td> 2551.880</td> <td>  -13.573</td> <td> 0.000</td> <td>-3.96e+04</td> <td>-2.96e+04</td>\n",
       "</tr>\n",
       "<tr>\n",
       "  <th>bathrooms</th>     <td>-1.343e+04</td> <td> 4185.319</td> <td>   -3.208</td> <td> 0.001</td> <td>-2.16e+04</td> <td>-5222.550</td>\n",
       "</tr>\n",
       "<tr>\n",
       "  <th>sqft_lot</th>      <td>   -0.3394</td> <td>    0.045</td> <td>   -7.534</td> <td> 0.000</td> <td>   -0.428</td> <td>   -0.251</td>\n",
       "</tr>\n",
       "<tr>\n",
       "  <th>floors</th>        <td>-3151.7934</td> <td> 4724.597</td> <td>   -0.667</td> <td> 0.505</td> <td>-1.24e+04</td> <td> 6108.992</td>\n",
       "</tr>\n",
       "<tr>\n",
       "  <th>waterfront</th>    <td> 5.562e+05</td> <td> 2.52e+04</td> <td>   22.115</td> <td> 0.000</td> <td> 5.07e+05</td> <td> 6.06e+05</td>\n",
       "</tr>\n",
       "<tr>\n",
       "  <th>view</th>          <td>   6.4e+04</td> <td> 2851.793</td> <td>   22.442</td> <td> 0.000</td> <td> 5.84e+04</td> <td> 6.96e+04</td>\n",
       "</tr>\n",
       "<tr>\n",
       "  <th>condition</th>     <td> 5.506e+04</td> <td> 3026.891</td> <td>   18.192</td> <td> 0.000</td> <td> 4.91e+04</td> <td>  6.1e+04</td>\n",
       "</tr>\n",
       "<tr>\n",
       "  <th>grade</th>         <td> 1.027e+05</td> <td> 2716.461</td> <td>   37.797</td> <td> 0.000</td> <td> 9.73e+04</td> <td> 1.08e+05</td>\n",
       "</tr>\n",
       "<tr>\n",
       "  <th>sqft_above</th>    <td>   39.7554</td> <td>   26.118</td> <td>    1.522</td> <td> 0.128</td> <td>  -11.439</td> <td>   90.950</td>\n",
       "</tr>\n",
       "<tr>\n",
       "  <th>sqft_basement</th> <td>   60.6122</td> <td>   25.996</td> <td>    2.332</td> <td> 0.020</td> <td>    9.656</td> <td>  111.568</td>\n",
       "</tr>\n",
       "</table>\n",
       "<table class=\"simpletable\">\n",
       "<tr>\n",
       "  <th>Omnibus:</th>       <td>11836.556</td> <th>  Durbin-Watson:     </th>  <td>   2.001</td> \n",
       "</tr>\n",
       "<tr>\n",
       "  <th>Prob(Omnibus):</th>  <td> 0.000</td>   <th>  Jarque-Bera (JB):  </th> <td>941233.313</td>\n",
       "</tr>\n",
       "<tr>\n",
       "  <th>Skew:</th>           <td> 3.193</td>   <th>  Prob(JB):          </th>  <td>    0.00</td> \n",
       "</tr>\n",
       "<tr>\n",
       "  <th>Kurtosis:</th>       <td>41.182</td>   <th>  Cond. No.          </th>  <td>6.10e+05</td> \n",
       "</tr>\n",
       "</table><br/><br/>Notes:<br/>[1] Standard Errors assume that the covariance matrix of the errors is correctly specified.<br/>[2] The condition number is large, 6.1e+05. This might indicate that there are<br/>strong multicollinearity or other numerical problems."
      ],
      "text/plain": [
       "<class 'statsmodels.iolib.summary.Summary'>\n",
       "\"\"\"\n",
       "                            OLS Regression Results                            \n",
       "==============================================================================\n",
       "Dep. Variable:                  price   R-squared:                       0.602\n",
       "Model:                            OLS   Adj. R-squared:                  0.602\n",
       "Method:                 Least Squares   F-statistic:                     2070.\n",
       "Date:                Fri, 19 Nov 2021   Prob (F-statistic):               0.00\n",
       "Time:                        08:17:49   Log-Likelihood:            -2.0753e+05\n",
       "No. Observations:               15073   AIC:                         4.151e+05\n",
       "Df Residuals:                   15061   BIC:                         4.152e+05\n",
       "Df Model:                          11                                         \n",
       "Covariance Type:            nonrobust                                         \n",
       "=================================================================================\n",
       "                    coef    std err          t      P>|t|      [0.025      0.975]\n",
       "---------------------------------------------------------------------------------\n",
       "const         -3.382e+05   1.37e+04    -24.629      0.000   -3.65e+05   -3.11e+05\n",
       "sqft_living     151.4676     26.174      5.787      0.000     100.164     202.771\n",
       "bedrooms      -3.464e+04   2551.880    -13.573      0.000   -3.96e+04   -2.96e+04\n",
       "bathrooms     -1.343e+04   4185.319     -3.208      0.001   -2.16e+04   -5222.550\n",
       "sqft_lot         -0.3394      0.045     -7.534      0.000      -0.428      -0.251\n",
       "floors        -3151.7934   4724.597     -0.667      0.505   -1.24e+04    6108.992\n",
       "waterfront     5.562e+05   2.52e+04     22.115      0.000    5.07e+05    6.06e+05\n",
       "view             6.4e+04   2851.793     22.442      0.000    5.84e+04    6.96e+04\n",
       "condition      5.506e+04   3026.891     18.192      0.000    4.91e+04     6.1e+04\n",
       "grade          1.027e+05   2716.461     37.797      0.000    9.73e+04    1.08e+05\n",
       "sqft_above       39.7554     26.118      1.522      0.128     -11.439      90.950\n",
       "sqft_basement    60.6122     25.996      2.332      0.020       9.656     111.568\n",
       "==============================================================================\n",
       "Omnibus:                    11836.556   Durbin-Watson:                   2.001\n",
       "Prob(Omnibus):                  0.000   Jarque-Bera (JB):           941233.313\n",
       "Skew:                           3.193   Prob(JB):                         0.00\n",
       "Kurtosis:                      41.182   Cond. No.                     6.10e+05\n",
       "==============================================================================\n",
       "\n",
       "Notes:\n",
       "[1] Standard Errors assume that the covariance matrix of the errors is correctly specified.\n",
       "[2] The condition number is large, 6.1e+05. This might indicate that there are\n",
       "strong multicollinearity or other numerical problems.\n",
       "\"\"\""
      ]
     },
     "execution_count": 45,
     "metadata": {},
     "output_type": "execute_result"
    }
   ],
   "source": [
    "lrr.summary()"
   ]
  },
  {
   "cell_type": "code",
   "execution_count": 46,
   "metadata": {},
   "outputs": [],
   "source": [
    "y_train_pred = lrr.predict(X_train_sm)\n",
    "\n",
    "res = (y_train, y_train_pred)"
   ]
  },
  {
   "cell_type": "code",
   "execution_count": 47,
   "metadata": {},
   "outputs": [
    {
     "data": {
      "text/plain": [
       "<Figure size 432x288 with 0 Axes>"
      ]
     },
     "metadata": {},
     "output_type": "display_data"
    },
    {
     "data": {
      "image/png": "[encoded data removed]",
      "text/plain": [
       "<Figure size 420.875x360 with 1 Axes>"
      ]
     },
     "metadata": {
      "needs_background": "light"
     },
     "output_type": "display_data"
    }
   ],
   "source": [
    "fig = plt.figure()\n",
    "sns.displot(res, bins = 15)\n",
    "plt.title('Error Terms', fontsize = 15)\n",
    "plt.xlabel('y_train - y_train_pred', fontsize = 15)\n",
    "plt.show()"
   ]
  },
  {
   "cell_type": "code",
   "execution_count": 48,
   "metadata": {},
   "outputs": [
    {
     "data": {
      "image/png": "[encoded data removed]",
      "text/plain": [
       "<Figure size 432x216 with 2 Axes>"
      ]
     },
     "metadata": {
      "needs_background": "light"
     },
     "output_type": "display_data"
    }
   ],
   "source": [
    "g = sns.FacetGrid(df, col=\"waterfront\")"
   ]
  },
  {
   "cell_type": "code",
   "execution_count": 49,
   "metadata": {
    "scrolled": false
   },
   "outputs": [
    {
     "data": {
      "text/plain": [
       "<seaborn.axisgrid.FacetGrid at 0x28057a864c0>"
      ]
     },
     "execution_count": 49,
     "metadata": {},
     "output_type": "execute_result"
    },
    {
     "data": {
      "image/png": "[encoded data removed]",
      "text/plain": [
       "<Figure size 432x216 with 2 Axes>"
      ]
     },
     "metadata": {
      "needs_background": "light"
     },
     "output_type": "display_data"
    }
   ],
   "source": [
    "g.map(sns.histplot, \"price\")"
   ]
  },
  {
   "cell_type": "code",
   "execution_count": 50,
   "metadata": {},
   "outputs": [],
   "source": [
    "models_num = np.array([.602, .605, .276, .095, .492, .651])\n",
    "models = ['Model 1', 'Model 2', 'Model 3', 'Model 4', 'Model 5', 'Final Model']"
   ]
  },
  {
   "cell_type": "code",
   "execution_count": 51,
   "metadata": {},
   "outputs": [
    {
     "data": {
      "text/plain": [
       "array([0.095, 0.276, 0.492, 0.602, 0.605, 0.651])"
      ]
     },
     "execution_count": 51,
     "metadata": {},
     "output_type": "execute_result"
    }
   ],
   "source": [
    "models_num.sort()\n",
    "models_num"
   ]
  },
  {
   "cell_type": "code",
   "execution_count": 52,
   "metadata": {},
   "outputs": [
    {
     "data": {
      "text/plain": [
       "<BarContainer object of 6 artists>"
      ]
     },
     "execution_count": 52,
     "metadata": {},
     "output_type": "execute_result"
    },
    {
     "data": {
      "image/png": "[encoded data removed]",
      "text/plain": [
       "<Figure size 432x288 with 1 Axes>"
      ]
     },
     "metadata": {
      "needs_background": "light"
     },
     "output_type": "display_data"
    }
   ],
   "source": [
    "plt.bar(models, height=models_num )"
   ]
  },
  {
   "cell_type": "code",
   "execution_count": 53,
   "metadata": {},
   "outputs": [
    {
     "data": {
      "image/png": "[encoded data removed]",
      "text/plain": [
       "<Figure size 432x288 with 1 Axes>"
      ]
     },
     "metadata": {
      "needs_background": "light"
     },
     "output_type": "display_data"
    }
   ],
   "source": [
    "clrs = ['grey' if (x < max(models_num)) else 'red' for x in models_num ]\n",
    "sns.barplot(x=models, y=models_num, palette=clrs)\n",
    "plt.ylabel('R-Squared Value', size=15)\n",
    "plt.savefig('../images/ModelProgression.png')\n",
    "sns.set_style('dark')"
   ]
  },
  {
   "cell_type": "code",
   "execution_count": null,
   "metadata": {},
   "outputs": [],
   "source": [
    "formula = 'price ~ bedrooms + bathrooms + sqft_living + sqft_lot + floors + waterfront + view + condition + grade + sqft_above + sqft_basement + yr_built + yr_renovated'\n",
    "#Included everything about the house, not the date or the neighborhood.\n",
    "model = ols(formula=formula, data=df).fit()\n",
    "model.summary()"
   ]
  },
  {
   "cell_type": "markdown",
   "metadata": {},
   "source": [
    "Because it has most of the features in the model, the R-Squared value is most likely going to be highest, however it is still worth a look to see how price correlates/is affected by other factors in the data\n",
    "\n",
    "It also shows us that we are violating atleast two of the assumptions of linear regression (Normality, Multicollinearity)"
   ]
  },
  {
   "cell_type": "code",
   "execution_count": null,
   "metadata": {},
   "outputs": [],
   "source": [
    "formula = 'price ~ bedrooms + bathrooms + sqft_living + sqft_lot + floors + waterfront + view + condition + grade + sqft_above + sqft_basement'\n",
    "#dropped a few categories, no relevant change in the data, still violates assumptions.\n",
    "model = ols(formula=formula, data=df).fit()\n",
    "model.summary()"
   ]
  },
  {
   "cell_type": "code",
   "execution_count": null,
   "metadata": {},
   "outputs": [],
   "source": [
    "formula4 = 'price ~ sqft_living'\n",
    "#testing individuals to see how they correlate, and which assumptions they violate individually\n",
    "#sqft_living, while a key factor and statistically significant to price, is not a normal distribution, \n",
    "#and there is clear collinearity issues.\n",
    "liv_mod = ols(formula=formula4, data=df).fit()\n",
    "liv_mod_sum = liv_mod.summary()\n",
    "\n",
    "liv_mod_sum"
   ]
  },
  {
   "cell_type": "code",
   "execution_count": null,
   "metadata": {},
   "outputs": [],
   "source": [
    "formula1 = 'price ~ bedrooms'\n",
    "#Bedrooms is not a normal distribution, BUT it does not have collinearity issues on the surface level, due to the \n",
    "#coef vs std err AND Cond. No. being between 10-30. Statistically significant according to the model, but only accounts for\n",
    "#(almost) 10% of the data\n",
    "bed_mod = ols(formula=formula1, data=df).fit()\n",
    "bed_mod_sum = bed_mod.summary()\n",
    "\n",
    "bed_mod_sum"
   ]
  },
  {
   "cell_type": "code",
   "execution_count": null,
   "metadata": {},
   "outputs": [],
   "source": [
    "formula3 = 'price ~ bedrooms+bathrooms+sqft_living+sqft_lot+floors+waterfront+view+condition+grade+sqft_above+sqft_basement'\n",
    "#It seems if we are just going to accept the fact that our LINEAR model is going to have issues with assumptions.\n",
    "#It would be best to include more data so we atleast have a higher R-Squared and can account for more variance within our model\n",
    "room_mod = ols(formula=formula3, data=df).fit()\n",
    "room_mod_sum = room_mod.summary()\n",
    "\n",
    "room_mod_sum"
   ]
  },
  {
   "cell_type": "code",
   "execution_count": null,
   "metadata": {},
   "outputs": [],
   "source": [
    "formula2 = 'price ~ bathrooms'\n",
    "#Like bedrooms, not a normal distribution, but it doesnt seem to have collinearity AND its statistically significant while holding\n",
    "#a solid R-Squared score.\n",
    "bath_mod = ols(formula=formula2, data=df).fit()\n",
    "bath_mod_sum = bath_mod.summary()\n",
    "\n",
    "bath_mod_sum"
   ]
  },
  {
   "cell_type": "code",
   "execution_count": null,
   "metadata": {},
   "outputs": [],
   "source": [
    "X = df[['sqft_living','bedrooms','bathrooms','sqft_lot','floors','waterfront', 'view', 'condition', 'grade', 'sqft_above', 'sqft_basement']]\n",
    "y = df['price']\n",
    "X_train, X_test, y_train, y_test = train_test_split(X, y, train_size = 0.7, test_size = 0.3, random_state = 100)"
   ]
  },
  {
   "cell_type": "code",
   "execution_count": 54,
   "metadata": {},
   "outputs": [],
   "source": [
    "X_train_sm = sm.add_constant(X_train)\n",
    "\n",
    "lrr = sm.OLS(y_train, X_train_sm).fit()\n",
    "lrr.params"
   ]
  },
  {
   "cell_type": "code",
   "execution_count": null,
   "metadata": {},
   "outputs": [],
   "source": []
  },
  {
   "cell_type": "code",
   "execution_count": null,
   "metadata": {},
   "outputs": [],
   "source": []
  },
  {
   "cell_type": "code",
   "execution_count": null,
   "metadata": {},
   "outputs": [],
   "source": []
  },
  {
   "cell_type": "code",
   "execution_count": null,
   "metadata": {},
   "outputs": [],
   "source": []
  },
  {
   "cell_type": "code",
   "execution_count": null,
   "metadata": {},
   "outputs": [],
   "source": []
  },
  {
   "cell_type": "code",
   "execution_count": null,
   "metadata": {},
   "outputs": [],
   "source": []
  },
  {
   "cell_type": "code",
   "execution_count": null,
   "metadata": {},
   "outputs": [],
   "source": []
  },
  {
   "cell_type": "code",
   "execution_count": null,
   "metadata": {},
   "outputs": [],
   "source": []
  },
  {
   "cell_type": "code",
   "execution_count": null,
   "metadata": {},
   "outputs": [],
   "source": []
  }
 ],
 "metadata": {
  "kernelspec": {
   "display_name": "Python 3",
   "language": "python",
   "name": "python3"
  },
  "language_info": {
   "codemirror_mode": {
    "name": "ipython",
    "version": 3
   },
   "file_extension": ".py",
   "mimetype": "text/x-python",
   "name": "python",
   "nbconvert_exporter": "python",
   "pygments_lexer": "ipython3",
   "version": "3.8.5"
  }
 },
 "nbformat": 4,
 "nbformat_minor": 2
}
